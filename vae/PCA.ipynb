{
 "cells": [
  {
   "cell_type": "code",
   "execution_count": 1,
   "metadata": {
    "collapsed": true
   },
   "outputs": [],
   "source": [
    "from __future__ import print_function\n",
    "import argparse\n",
    "import torch\n",
    "import torch.utils.data\n",
    "from torch import nn, optim\n",
    "from torch.nn import functional as F\n",
    "from torchvision import datasets, transforms\n",
    "from torchvision.utils import save_image"
   ]
  },
  {
   "cell_type": "code",
   "execution_count": 2,
   "metadata": {
    "collapsed": true
   },
   "outputs": [],
   "source": [
    "import numpy as np\n",
    "import gym\n",
    "import matplotlib.pyplot as plt\n",
    "\n",
    "import time\n",
    "import pickle"
   ]
  },
  {
   "cell_type": "code",
   "execution_count": 3,
   "metadata": {
    "collapsed": true
   },
   "outputs": [],
   "source": [
    "batch_size=128\n",
    "epochs = 1000\n",
    "log_interval = 100\n",
    "z_dim = 20"
   ]
  },
  {
   "cell_type": "code",
   "execution_count": 10,
   "metadata": {
    "collapsed": true
   },
   "outputs": [],
   "source": [
    "def prepro(I):\n",
    "    \"\"\" prepro 210x160x3 uint8 frame into 6400 (80x80) 1D float vector -- NOT USED \"\"\"\n",
    "    I = I[35:195] # crop\n",
    "    I = I[::2,::2,0] # downsample by factor of 2, use only \n",
    "    I[I == 144] = 0 # erase background (background type 1)\n",
    "    I[I == 109] = 0 # erase background (background type 2)\n",
    "    return I.astype(np.float)"
   ]
  },
  {
   "cell_type": "code",
   "execution_count": 11,
   "metadata": {
    "collapsed": true
   },
   "outputs": [],
   "source": [
    "def is_in_arr_list(arr, arr_list):\n",
    "    for element in arr_list:\n",
    "        if np.array_equal(element, arr):\n",
    "            return True\n",
    "        \n",
    "    return False"
   ]
  },
  {
   "cell_type": "code",
   "execution_count": 17,
   "metadata": {
    "collapsed": true
   },
   "outputs": [],
   "source": [
    "class PongFrames(torch.utils.data.Dataset):\n",
    "    \"\"\"\n",
    "    A customized data set for pong images.\n",
    "    \"\"\"\n",
    "    def __init__(self, _len, discard_duplicates=False, preprocess=False):\n",
    "        \"\"\" Intialize the dataset\n",
    "        \"\"\"\n",
    "        self.transform = transforms.ToTensor()\n",
    "        self.len = _len\n",
    "        self.obs = []\n",
    "        env = gym.make(\"Pong-v0\")\n",
    "        env.reset()\n",
    "        for i in range(self.len):\n",
    "            observation,_,done,_ = env.step(env.action_space.sample())\n",
    "            if done:\n",
    "                observation = env.reset()\n",
    "            present=False\n",
    "            if discard_duplicates:\n",
    "                while is_in_arr_list(observation, self.obs):\n",
    "                    #print(i, \"repeat\")\n",
    "                    observation,_,done,_ = env.step(env.action_space.sample())\n",
    "                    if done:\n",
    "                        observation = env.reset()\n",
    "            if not preprocess:\n",
    "                self.obs.append(observation)\n",
    "            else:\n",
    "                self.obs.append(prepro(observation))\n",
    "        \n",
    "    def __getitem__(self, index):\n",
    "        \"\"\" Get a sample from the dataset\n",
    "        \"\"\"\n",
    "        image = self.obs[index]\n",
    "        #return self.transform(image)\n",
    "        return image\n",
    "        \n",
    "    def __len__(self):\n",
    "        \"\"\"\n",
    "        Total number of samples in the dataset\n",
    "        \"\"\"\n",
    "        return self.len\n"
   ]
  },
  {
   "cell_type": "code",
   "execution_count": 45,
   "metadata": {},
   "outputs": [],
   "source": [
    "use_mixed = False\n",
    "discard_duplicates = True\n",
    "preproc = False\n",
    "n_train_examples = 5000\n",
    "n_test_examples = 450\n",
    "\n",
    "## Set up data set and data loader\n",
    "pong_frames = PongFrames(n_train_examples, discard_duplicates=discard_duplicates, preprocess=preproc)\n",
    "pong_frames_test = PongFrames(n_test_examples, preprocess=preproc)\n",
    "#im_dm = pong_frames[0].view(-1).size()[0]\n",
    "im_dm = pong_frames[0].size\n",
    "\n",
    "train_loader = torch.utils.data.DataLoader(\n",
    "    pong_frames,\n",
    "    batch_size=batch_size, shuffle=True)\n",
    "\n",
    "test_loader = torch.utils.data.DataLoader(\n",
    "    pong_frames_test,\n",
    "    batch_size=batch_size, shuffle=True)\n",
    "\n",
    "im_dims = pong_frames[0].shape"
   ]
  },
  {
   "cell_type": "code",
   "execution_count": 46,
   "metadata": {
    "collapsed": true
   },
   "outputs": [],
   "source": [
    "from sklearn.decomposition import PCA"
   ]
  },
  {
   "cell_type": "code",
   "execution_count": 184,
   "metadata": {
    "collapsed": true
   },
   "outputs": [],
   "source": [
    "n_c = 200"
   ]
  },
  {
   "cell_type": "code",
   "execution_count": 185,
   "metadata": {
    "collapsed": true
   },
   "outputs": [],
   "source": [
    "pca = PCA(n_components=n_c)"
   ]
  },
  {
   "cell_type": "code",
   "execution_count": 186,
   "metadata": {},
   "outputs": [
    {
     "data": {
      "text/plain": [
       "PCA(copy=True, iterated_power='auto', n_components=200, random_state=None,\n",
       "  svd_solver='auto', tol=0.0, whiten=False)"
      ]
     },
     "execution_count": 186,
     "metadata": {},
     "output_type": "execute_result"
    }
   ],
   "source": [
    "X = np.array(pong_frames[:])\n",
    "pca.fit(X.reshape((n_train_examples,-1)))"
   ]
  },
  {
   "cell_type": "code",
   "execution_count": null,
   "metadata": {
    "collapsed": true
   },
   "outputs": [],
   "source": []
  },
  {
   "cell_type": "markdown",
   "metadata": {},
   "source": [
    "## Using Preprocessed frames as input"
   ]
  },
  {
   "cell_type": "code",
   "execution_count": 212,
   "metadata": {
    "collapsed": true
   },
   "outputs": [],
   "source": [
    "total_rewards_pp = []"
   ]
  },
  {
   "cell_type": "code",
   "execution_count": 213,
   "metadata": {},
   "outputs": [
    {
     "name": "stdout",
     "output_type": "stream",
     "text": [
      "resetting env. episode reward total was -20.0. running mean: -20.00\n",
      "resetting env. episode reward total was -20.0. running mean: -20.00\n",
      "resetting env. episode reward total was -21.0. running mean: -20.01\n",
      "resetting env. episode reward total was -19.0. running mean: -20.00\n",
      "resetting env. episode reward total was -21.0. running mean: -20.01\n",
      "resetting env. episode reward total was -20.0. running mean: -20.01\n",
      "resetting env. episode reward total was -21.0. running mean: -20.02\n",
      "resetting env. episode reward total was -19.0. running mean: -20.01\n",
      "resetting env. episode reward total was -20.0. running mean: -20.01\n",
      "resetting env. episode reward total was -20.0. running mean: -20.01\n",
      "resetting env. episode reward total was -21.0. running mean: -20.02\n",
      "resetting env. episode reward total was -20.0. running mean: -20.02\n",
      "resetting env. episode reward total was -20.0. running mean: -20.02\n",
      "resetting env. episode reward total was -21.0. running mean: -20.03\n",
      "resetting env. episode reward total was -21.0. running mean: -20.04\n",
      "resetting env. episode reward total was -21.0. running mean: -20.05\n",
      "resetting env. episode reward total was -20.0. running mean: -20.05\n",
      "resetting env. episode reward total was -21.0. running mean: -20.06\n",
      "resetting env. episode reward total was -21.0. running mean: -20.07\n",
      "resetting env. episode reward total was -21.0. running mean: -20.08\n",
      "resetting env. episode reward total was -20.0. running mean: -20.08\n",
      "resetting env. episode reward total was -20.0. running mean: -20.07\n",
      "resetting env. episode reward total was -20.0. running mean: -20.07\n",
      "resetting env. episode reward total was -20.0. running mean: -20.07\n",
      "resetting env. episode reward total was -21.0. running mean: -20.08\n",
      "resetting env. episode reward total was -17.0. running mean: -20.05\n",
      "resetting env. episode reward total was -21.0. running mean: -20.06\n",
      "resetting env. episode reward total was -21.0. running mean: -20.07\n",
      "resetting env. episode reward total was -21.0. running mean: -20.08\n",
      "resetting env. episode reward total was -21.0. running mean: -20.09\n",
      "resetting env. episode reward total was -21.0. running mean: -20.10\n",
      "resetting env. episode reward total was -21.0. running mean: -20.11\n",
      "resetting env. episode reward total was -19.0. running mean: -20.10\n",
      "resetting env. episode reward total was -18.0. running mean: -20.07\n",
      "resetting env. episode reward total was -20.0. running mean: -20.07\n",
      "resetting env. episode reward total was -20.0. running mean: -20.07\n",
      "resetting env. episode reward total was -21.0. running mean: -20.08\n",
      "resetting env. episode reward total was -19.0. running mean: -20.07\n",
      "resetting env. episode reward total was -19.0. running mean: -20.06\n",
      "resetting env. episode reward total was -21.0. running mean: -20.07\n",
      "resetting env. episode reward total was -21.0. running mean: -20.08\n",
      "resetting env. episode reward total was -21.0. running mean: -20.09\n",
      "resetting env. episode reward total was -21.0. running mean: -20.10\n",
      "resetting env. episode reward total was -21.0. running mean: -20.11\n",
      "resetting env. episode reward total was -20.0. running mean: -20.11\n",
      "resetting env. episode reward total was -21.0. running mean: -20.11\n",
      "resetting env. episode reward total was -21.0. running mean: -20.12\n",
      "resetting env. episode reward total was -21.0. running mean: -20.13\n",
      "resetting env. episode reward total was -21.0. running mean: -20.14\n",
      "resetting env. episode reward total was -21.0. running mean: -20.15\n",
      "resetting env. episode reward total was -21.0. running mean: -20.16\n",
      "resetting env. episode reward total was -21.0. running mean: -20.17\n",
      "resetting env. episode reward total was -20.0. running mean: -20.17\n",
      "resetting env. episode reward total was -20.0. running mean: -20.16\n",
      "resetting env. episode reward total was -20.0. running mean: -20.16\n",
      "resetting env. episode reward total was -20.0. running mean: -20.16\n",
      "resetting env. episode reward total was -20.0. running mean: -20.16\n",
      "resetting env. episode reward total was -21.0. running mean: -20.17\n",
      "resetting env. episode reward total was -19.0. running mean: -20.16\n",
      "resetting env. episode reward total was -21.0. running mean: -20.16\n",
      "resetting env. episode reward total was -21.0. running mean: -20.17\n",
      "resetting env. episode reward total was -21.0. running mean: -20.18\n",
      "resetting env. episode reward total was -17.0. running mean: -20.15\n",
      "resetting env. episode reward total was -21.0. running mean: -20.16\n",
      "resetting env. episode reward total was -20.0. running mean: -20.16\n",
      "resetting env. episode reward total was -20.0. running mean: -20.15\n",
      "resetting env. episode reward total was -21.0. running mean: -20.16\n",
      "resetting env. episode reward total was -20.0. running mean: -20.16\n",
      "resetting env. episode reward total was -19.0. running mean: -20.15\n",
      "resetting env. episode reward total was -16.0. running mean: -20.11\n",
      "resetting env. episode reward total was -20.0. running mean: -20.11\n",
      "resetting env. episode reward total was -21.0. running mean: -20.12\n",
      "resetting env. episode reward total was -21.0. running mean: -20.12\n",
      "resetting env. episode reward total was -20.0. running mean: -20.12\n",
      "resetting env. episode reward total was -20.0. running mean: -20.12\n",
      "resetting env. episode reward total was -21.0. running mean: -20.13\n",
      "resetting env. episode reward total was -20.0. running mean: -20.13\n",
      "resetting env. episode reward total was -21.0. running mean: -20.14\n",
      "resetting env. episode reward total was -21.0. running mean: -20.15\n",
      "resetting env. episode reward total was -20.0. running mean: -20.15\n",
      "resetting env. episode reward total was -21.0. running mean: -20.15\n",
      "resetting env. episode reward total was -20.0. running mean: -20.15\n",
      "resetting env. episode reward total was -21.0. running mean: -20.16\n",
      "resetting env. episode reward total was -21.0. running mean: -20.17\n",
      "resetting env. episode reward total was -20.0. running mean: -20.17\n",
      "resetting env. episode reward total was -19.0. running mean: -20.16\n",
      "resetting env. episode reward total was -21.0. running mean: -20.16\n",
      "resetting env. episode reward total was -21.0. running mean: -20.17\n",
      "resetting env. episode reward total was -21.0. running mean: -20.18\n",
      "resetting env. episode reward total was -20.0. running mean: -20.18\n",
      "resetting env. episode reward total was -21.0. running mean: -20.19\n",
      "resetting env. episode reward total was -21.0. running mean: -20.20\n",
      "resetting env. episode reward total was -21.0. running mean: -20.20\n",
      "resetting env. episode reward total was -19.0. running mean: -20.19\n",
      "resetting env. episode reward total was -21.0. running mean: -20.20\n",
      "resetting env. episode reward total was -21.0. running mean: -20.21\n",
      "resetting env. episode reward total was -20.0. running mean: -20.21\n",
      "resetting env. episode reward total was -21.0. running mean: -20.21\n",
      "resetting env. episode reward total was -21.0. running mean: -20.22\n",
      "resetting env. episode reward total was -21.0. running mean: -20.23\n",
      "83.03378748893738\n"
     ]
    },
    {
     "ename": "NameError",
     "evalue": "name 'total_rewards' is not defined",
     "output_type": "error",
     "traceback": [
      "\u001b[0;31m---------------------------------------------------------------------------\u001b[0m",
      "\u001b[0;31mNameError\u001b[0m                                 Traceback (most recent call last)",
      "\u001b[0;32m<ipython-input-213-645f0acf1a4f>\u001b[0m in \u001b[0;36m<module>\u001b[0;34m()\u001b[0m\n\u001b[1;32m    142\u001b[0m \u001b[0mend\u001b[0m \u001b[0;34m=\u001b[0m \u001b[0mtime\u001b[0m\u001b[0;34m.\u001b[0m\u001b[0mtime\u001b[0m\u001b[0;34m(\u001b[0m\u001b[0;34m)\u001b[0m\u001b[0;34m\u001b[0m\u001b[0m\n\u001b[1;32m    143\u001b[0m \u001b[0mprint\u001b[0m\u001b[0;34m(\u001b[0m\u001b[0mend\u001b[0m \u001b[0;34m-\u001b[0m \u001b[0mstart\u001b[0m\u001b[0;34m)\u001b[0m\u001b[0;34m\u001b[0m\u001b[0m\n\u001b[0;32m--> 144\u001b[0;31m \u001b[0mtotal_rewards_pp\u001b[0m\u001b[0;34m.\u001b[0m\u001b[0mappend\u001b[0m\u001b[0;34m(\u001b[0m\u001b[0mtotal_rewards\u001b[0m\u001b[0;34m)\u001b[0m\u001b[0;34m\u001b[0m\u001b[0m\n\u001b[0m",
      "\u001b[0;31mNameError\u001b[0m: name 'total_rewards' is not defined"
     ]
    }
   ],
   "source": [
    "# hyperparameters\n",
    "H = 200 # number of hidden layer neurons\n",
    "batch_size = 60 # every how many episodes to do a param update?\n",
    "learning_rate = 1e-4\n",
    "gamma = 0.99 # discount factor for reward\n",
    "decay_rate = 0.99 # decay factor for RMSProp leaky sum of grad^2\n",
    "resume = False # resume from previous checkpoint?\n",
    "\n",
    "render = False \n",
    "#render = True\n",
    "\n",
    "# model initialization\n",
    "D = 80 * 80 # input dimensionality: 80x80 grid\n",
    "if resume:\n",
    "    model = pickle.load(open('save.p', 'rb'))\n",
    "else:\n",
    "    model = {}\n",
    "    model['W1'] = np.random.randn(H,D) / np.sqrt(D) # \"Xavier\" initialization\n",
    "    model['W2'] = np.random.randn(H) / np.sqrt(H)\n",
    "\n",
    "grad_buffer = { k : np.zeros_like(v) for k,v in model.items() } # update buffers that add up gradients over a batch\n",
    "rmsprop_cache = { k : np.zeros_like(v) for k,v in model.items() } # rmsprop memory\n",
    "\n",
    "def sigmoid(x):\n",
    "    return 1.0 / (1.0 + np.exp(-x)) # sigmoid \"squashing\" function to interval [0,1]\n",
    "\n",
    "def prepro(I):\n",
    "    \"\"\" prepro 210x160x3 uint8 frame into 6400 (80x80) 1D float vector \"\"\"\n",
    "    I = I[35:195] # crop\n",
    "    I = I[::2,::2,0] # downsample by factor of 2\n",
    "    I[I == 144] = 0 # erase background (background type 1)\n",
    "    I[I == 109] = 0 # erase background (background type 2)\n",
    "    I[I != 0] = 1 # everything else (paddles, ball) just set to 1\n",
    "    return I.astype(np.float).ravel()\n",
    "\n",
    "def discount_rewards(r):\n",
    "    \"\"\" take 1D float array of rewards and compute discounted reward \"\"\"\n",
    "    discounted_r = np.zeros_like(r)\n",
    "    running_add = 0\n",
    "    for t in reversed(range(0, r.size)):\n",
    "        if r[t] != 0: running_add = 0 # reset the sum, since this was a game boundary (pong specific!)\n",
    "        running_add = running_add * gamma + r[t]\n",
    "        discounted_r[t] = running_add\n",
    "    return discounted_r\n",
    "\n",
    "def policy_forward(x):\n",
    "    h = np.dot(model['W1'], x)\n",
    "    h[h<0] = 0 # ReLU nonlinearity\n",
    "    logp = np.dot(model['W2'], h)\n",
    "    p = sigmoid(logp)\n",
    "    return p, h # return probability of taking action 2, and hidden state\n",
    "\n",
    "def policy_backward(eph, epdlogp):\n",
    "    \"\"\" backward pass. (eph is array of intermediate hidden states) \"\"\"\n",
    "    dW2 = np.dot(eph.T, epdlogp).ravel()\n",
    "    dh = np.outer(epdlogp, model['W2'])\n",
    "    dh[eph <= 0] = 0 # backpro prelu\n",
    "    dW1 = np.dot(dh.T, epx)\n",
    "    return {'W1':dW1, 'W2':dW2}\n",
    "\n",
    "env = gym.make(\"Pong-v0\")\n",
    "observation = env.reset()\n",
    "prev_x = None # used in computing the difference frame\n",
    "xs,hs,dlogps,drs = [],[],[],[]\n",
    "running_reward = None\n",
    "reward_sum = 0\n",
    "episode_number = 0\n",
    "#while True:\n",
    "start = time.time()\n",
    "while(episode_number < 100):\n",
    "    if render: env.render()\n",
    "\n",
    "    # preprocess the observation, set input to network to be difference image\n",
    "    \n",
    "    #start = time.time()\n",
    "    cur_x = prepro(observation)\n",
    "    #end = time.time()\n",
    "    #print(end - start)\n",
    "    \n",
    "    x = cur_x - prev_x if prev_x is not None else np.zeros(D)\n",
    "    prev_x = cur_x\n",
    "\n",
    "    # forward the policy network and sample an action from the returned probability\n",
    "    #print(x.shape)\n",
    "    aprob, h = policy_forward(x)\n",
    "    action = 2 if np.random.uniform() < aprob else 3 # roll the dice!\n",
    "\n",
    "    # record various intermediates (needed later for backprop)\n",
    "    xs.append(x) # observation\n",
    "    hs.append(h) # hidden state\n",
    "    y = 1 if action == 2 else 0 # a \"fake label\"\n",
    "    dlogps.append(y - aprob) # grad that encourages the action that was taken to be taken (see http://cs231n.github.io/neural-networks-2/#losses if confused)\n",
    "\n",
    "    # step the environment and get new measurements\n",
    "    observation, reward, done, info = env.step(action)\n",
    "    reward_sum += reward\n",
    "\n",
    "    drs.append(reward) # record reward (has to be done after we call step() to get reward for previous action)\n",
    "\n",
    "    if done: # an episode finished\n",
    "        episode_number += 1\n",
    "\n",
    "        # stack together all inputs, hidden states, action gradients, and rewards for this episode\n",
    "        epx = np.vstack(xs)\n",
    "        eph = np.vstack(hs)\n",
    "        epdlogp = np.vstack(dlogps)\n",
    "        epr = np.vstack(drs)\n",
    "        xs,hs,dlogps,drs = [],[],[],[] # reset array memory\n",
    "\n",
    "        # compute the discounted reward backwards through time\n",
    "        discounted_epr = discount_rewards(epr)\n",
    "        # standardize the rewards to be unit normal (helps control the gradient estimator variance)\n",
    "        discounted_epr -= np.mean(discounted_epr)\n",
    "        discounted_epr /= np.std(discounted_epr)\n",
    "\n",
    "        epdlogp *= discounted_epr # modulate the gradient with advantage (PG magic happens right here.)\n",
    "        grad = policy_backward(eph, epdlogp)\n",
    "        for k in model: grad_buffer[k] += grad[k] # accumulate grad over batch\n",
    "\n",
    "        # perform rmsprop parameter update every batch_size episodes\n",
    "        if episode_number % batch_size == 0:\n",
    "            for k,v in model.items():\n",
    "                g = grad_buffer[k] # gradient\n",
    "                rmsprop_cache[k] = decay_rate * rmsprop_cache[k] + (1 - decay_rate) * g**2\n",
    "                model[k] += learning_rate * g / (np.sqrt(rmsprop_cache[k]) + 1e-5)\n",
    "                grad_buffer[k] = np.zeros_like(v) # reset batch gradient buffer\n",
    "\n",
    "        # boring book-keeping\n",
    "        running_reward = reward_sum if running_reward is None else running_reward * 0.99 + reward_sum * 0.01\n",
    "        print('resetting env. episode reward total was ' + str(reward_sum) + '. running mean: {0:.2f}'.format(running_reward))\n",
    "\n",
    "        if episode_number % 100 == 0: pickle.dump(model, open('save_prepoc.p', 'wb'))\n",
    "        total_reward += reward_sum\n",
    "        reward_sum = 0\n",
    "        observation = env.reset() # reset env\n",
    "        prev_x = None\n",
    "\n",
    "    #if reward != 0: # Pong has either +1 or -1 reward exactly when game ends.\n",
    "        #print ('ep ' + str(episode_number) + ': game finished, reward: ' + str(reward) + ('' if reward == -1 else ' !!!!!!!!'))\n",
    "        #print(episode_number, reward)\n",
    "\n",
    "end = time.time()\n",
    "print(end - start)\n",
    "total_rewards_pp.append(total_rewards)"
   ]
  },
  {
   "cell_type": "markdown",
   "metadata": {},
   "source": [
    "## Using principal components as input\n",
    "Seems like there is enough info to learn off of"
   ]
  },
  {
   "cell_type": "code",
   "execution_count": 106,
   "metadata": {
    "collapsed": true
   },
   "outputs": [],
   "source": [
    "total_rewards_pca = []"
   ]
  },
  {
   "cell_type": "code",
   "execution_count": 107,
   "metadata": {
    "scrolled": true
   },
   "outputs": [
    {
     "name": "stdout",
     "output_type": "stream",
     "text": [
      "Resetting env. episode1 reward total was -20.0. running mean: -20.00\n",
      "Resetting env. episode2 reward total was -21.0. running mean: -20.01\n",
      "Resetting env. episode3 reward total was -20.0. running mean: -20.01\n",
      "Resetting env. episode4 reward total was -21.0. running mean: -20.02\n",
      "Resetting env. episode5 reward total was -21.0. running mean: -20.03\n",
      "Resetting env. episode6 reward total was -21.0. running mean: -20.04\n",
      "Resetting env. episode7 reward total was -21.0. running mean: -20.05\n",
      "Resetting env. episode8 reward total was -21.0. running mean: -20.06\n",
      "Resetting env. episode9 reward total was -21.0. running mean: -20.07\n",
      "Resetting env. episode10 reward total was -20.0. running mean: -20.07\n",
      "Resetting env. episode11 reward total was -20.0. running mean: -20.07\n",
      "Resetting env. episode12 reward total was -21.0. running mean: -20.08\n",
      "Resetting env. episode13 reward total was -21.0. running mean: -20.09\n",
      "Resetting env. episode14 reward total was -19.0. running mean: -20.07\n",
      "Resetting env. episode15 reward total was -21.0. running mean: -20.08\n",
      "Resetting env. episode16 reward total was -18.0. running mean: -20.06\n",
      "Resetting env. episode17 reward total was -20.0. running mean: -20.06\n",
      "Resetting env. episode18 reward total was -20.0. running mean: -20.06\n",
      "Resetting env. episode19 reward total was -19.0. running mean: -20.05\n",
      "Resetting env. episode20 reward total was -20.0. running mean: -20.05\n",
      "Resetting env. episode21 reward total was -17.0. running mean: -20.02\n",
      "Resetting env. episode22 reward total was -19.0. running mean: -20.01\n",
      "Resetting env. episode23 reward total was -21.0. running mean: -20.02\n",
      "Resetting env. episode24 reward total was -20.0. running mean: -20.02\n",
      "Resetting env. episode25 reward total was -21.0. running mean: -20.03\n",
      "Resetting env. episode26 reward total was -19.0. running mean: -20.02\n",
      "Resetting env. episode27 reward total was -18.0. running mean: -20.00\n",
      "Resetting env. episode28 reward total was -21.0. running mean: -20.01\n",
      "Resetting env. episode29 reward total was -21.0. running mean: -20.02\n",
      "Resetting env. episode30 reward total was -19.0. running mean: -20.01\n",
      "Resetting env. episode31 reward total was -20.0. running mean: -20.01\n",
      "Resetting env. episode32 reward total was -17.0. running mean: -19.98\n",
      "Resetting env. episode33 reward total was -21.0. running mean: -19.99\n",
      "Resetting env. episode34 reward total was -20.0. running mean: -19.99\n",
      "Resetting env. episode35 reward total was -17.0. running mean: -19.96\n",
      "Resetting env. episode36 reward total was -21.0. running mean: -19.97\n",
      "Resetting env. episode37 reward total was -19.0. running mean: -19.96\n",
      "Resetting env. episode38 reward total was -21.0. running mean: -19.97\n",
      "Resetting env. episode39 reward total was -20.0. running mean: -19.97\n",
      "Resetting env. episode40 reward total was -19.0. running mean: -19.96\n",
      "Resetting env. episode41 reward total was -21.0. running mean: -19.97\n",
      "Resetting env. episode42 reward total was -20.0. running mean: -19.97\n",
      "Resetting env. episode43 reward total was -21.0. running mean: -19.98\n",
      "Resetting env. episode44 reward total was -20.0. running mean: -19.98\n",
      "Resetting env. episode45 reward total was -21.0. running mean: -19.99\n",
      "Resetting env. episode46 reward total was -19.0. running mean: -19.98\n",
      "Resetting env. episode47 reward total was -20.0. running mean: -19.98\n",
      "Resetting env. episode48 reward total was -21.0. running mean: -19.99\n",
      "Resetting env. episode49 reward total was -21.0. running mean: -20.00\n",
      "Resetting env. episode50 reward total was -18.0. running mean: -19.98\n",
      "Resetting env. episode51 reward total was -20.0. running mean: -19.98\n",
      "Resetting env. episode52 reward total was -21.0. running mean: -19.99\n",
      "Resetting env. episode53 reward total was -20.0. running mean: -19.99\n",
      "Resetting env. episode54 reward total was -21.0. running mean: -20.00\n",
      "Resetting env. episode55 reward total was -21.0. running mean: -20.01\n",
      "Resetting env. episode56 reward total was -21.0. running mean: -20.02\n",
      "Resetting env. episode57 reward total was -19.0. running mean: -20.01\n",
      "Resetting env. episode58 reward total was -19.0. running mean: -20.00\n",
      "Resetting env. episode59 reward total was -20.0. running mean: -20.00\n",
      "Resetting env. episode60 reward total was -19.0. running mean: -19.99\n",
      "Resetting env. episode61 reward total was -18.0. running mean: -19.97\n",
      "Resetting env. episode62 reward total was -21.0. running mean: -19.98\n",
      "Resetting env. episode63 reward total was -20.0. running mean: -19.98\n",
      "Resetting env. episode64 reward total was -21.0. running mean: -19.99\n",
      "Resetting env. episode65 reward total was -19.0. running mean: -19.98\n",
      "Resetting env. episode66 reward total was -20.0. running mean: -19.98\n",
      "Resetting env. episode67 reward total was -20.0. running mean: -19.98\n",
      "Resetting env. episode68 reward total was -21.0. running mean: -19.99\n",
      "Resetting env. episode69 reward total was -21.0. running mean: -20.00\n",
      "Resetting env. episode70 reward total was -20.0. running mean: -20.00\n",
      "Resetting env. episode71 reward total was -19.0. running mean: -19.99\n",
      "Resetting env. episode72 reward total was -19.0. running mean: -19.98\n",
      "Resetting env. episode73 reward total was -20.0. running mean: -19.98\n",
      "Resetting env. episode74 reward total was -19.0. running mean: -19.97\n",
      "Resetting env. episode75 reward total was -21.0. running mean: -19.98\n",
      "Resetting env. episode76 reward total was -21.0. running mean: -19.99\n",
      "Resetting env. episode77 reward total was -21.0. running mean: -20.00\n",
      "Resetting env. episode78 reward total was -19.0. running mean: -19.99\n",
      "Resetting env. episode79 reward total was -20.0. running mean: -19.99\n",
      "Resetting env. episode80 reward total was -21.0. running mean: -20.00\n",
      "Resetting env. episode81 reward total was -21.0. running mean: -20.01\n",
      "Resetting env. episode82 reward total was -20.0. running mean: -20.01\n",
      "Resetting env. episode83 reward total was -20.0. running mean: -20.01\n",
      "Resetting env. episode84 reward total was -19.0. running mean: -20.00\n",
      "Resetting env. episode85 reward total was -21.0. running mean: -20.01\n",
      "Resetting env. episode86 reward total was -21.0. running mean: -20.02\n",
      "Resetting env. episode87 reward total was -21.0. running mean: -20.03\n",
      "Resetting env. episode88 reward total was -20.0. running mean: -20.03\n",
      "Resetting env. episode89 reward total was -20.0. running mean: -20.03\n",
      "Resetting env. episode90 reward total was -18.0. running mean: -20.01\n",
      "Resetting env. episode91 reward total was -21.0. running mean: -20.02\n",
      "Resetting env. episode92 reward total was -21.0. running mean: -20.03\n",
      "Resetting env. episode93 reward total was -20.0. running mean: -20.03\n",
      "Resetting env. episode94 reward total was -19.0. running mean: -20.02\n",
      "Resetting env. episode95 reward total was -21.0. running mean: -20.03\n",
      "Resetting env. episode96 reward total was -20.0. running mean: -20.03\n",
      "Resetting env. episode97 reward total was -19.0. running mean: -20.02\n",
      "Resetting env. episode98 reward total was -19.0. running mean: -20.01\n",
      "Resetting env. episode99 reward total was -20.0. running mean: -20.01\n",
      "Resetting env. episode100 reward total was -19.0. running mean: -20.00\n",
      "504.0427680015564 0\n"
     ]
    }
   ],
   "source": [
    "# hyperparameters\n",
    "H = 200 # number of hidden layer neurons\n",
    "batch_size = 60 # every how many episodes to do a param update?\n",
    "learning_rate = 1e-4\n",
    "gamma = 0.99 # discount factor for reward\n",
    "decay_rate = 0.99 # decay factor for RMSProp leaky sum of grad^2\n",
    "resume = False # resume from previous checkpoint?\n",
    "\n",
    "render = False \n",
    "#render = True\n",
    "\n",
    "# model initialization\n",
    "D = n_c # input dimensionality: 80x80 grid\n",
    "if resume:\n",
    "    model = pickle.load(open('save.p', 'rb'))\n",
    "else:\n",
    "    model = {}\n",
    "    model['W1'] = np.random.randn(H,D) / np.sqrt(D) # \"Xavier\" initialization\n",
    "    model['W2'] = np.random.randn(H) / np.sqrt(H)\n",
    "\n",
    "grad_buffer = { k : np.zeros_like(v) for k,v in model.items() } # update buffers that add up gradients over a batch\n",
    "rmsprop_cache = { k : np.zeros_like(v) for k,v in model.items() } # rmsprop memory\n",
    "\n",
    "def sigmoid(x):\n",
    "    return 1.0 / (1.0 + np.exp(-x)) # sigmoid \"squashing\" function to interval [0,1]\n",
    "\n",
    "def prepro(I):\n",
    "    \"\"\" prepro 210x160x3 uint8 frame into 6400 (80x80) 1D float vector \"\"\"\n",
    "    I = I[35:195] # crop\n",
    "    I = I[::2,::2,0] # downsample by factor of 2\n",
    "    I[I == 144] = 0 # erase background (background type 1)\n",
    "    I[I == 109] = 0 # erase background (background type 2)\n",
    "    I[I != 0] = 1 # everything else (paddles, ball) just set to 1\n",
    "    return I.astype(np.float).ravel()\n",
    "\n",
    "def discount_rewards(r):\n",
    "    \"\"\" take 1D float array of rewards and compute discounted reward \"\"\"\n",
    "    discounted_r = np.zeros_like(r)\n",
    "    running_add = 0\n",
    "    for t in reversed(range(0, r.size)):\n",
    "        if r[t] != 0: running_add = 0 # reset the sum, since this was a game boundary (pong specific!)\n",
    "        running_add = running_add * gamma + r[t]\n",
    "        discounted_r[t] = running_add\n",
    "    return discounted_r\n",
    "\n",
    "def policy_forward(x):\n",
    "    h = np.dot(model['W1'], x)\n",
    "    h[h<0] = 0 # ReLU nonlinearity\n",
    "    logp = np.dot(model['W2'], h)\n",
    "    p = sigmoid(logp)\n",
    "    return p, h # return probability of taking action 2, and hidden state\n",
    "\n",
    "def policy_backward(eph, epdlogp):\n",
    "    \"\"\" backward pass. (eph is array of intermediate hidden states) \"\"\"\n",
    "    dW2 = np.dot(eph.T, epdlogp).ravel()\n",
    "    dh = np.outer(epdlogp, model['W2'])\n",
    "    dh[eph <= 0] = 0 # backpro prelu\n",
    "    dW1 = np.dot(dh.T, epx)\n",
    "    return {'W1':dW1, 'W2':dW2}\n",
    "\n",
    "env = gym.make(\"Pong-v0\")\n",
    "observation = env.reset()\n",
    "prev_x = None # used in computing the difference frame\n",
    "xs,hs,dlogps,drs = [],[],[],[]\n",
    "running_reward = None\n",
    "reward_sum = 0\n",
    "episode_number = 0\n",
    "#while True:\n",
    "start = time.time()\n",
    "total_reward = 0\n",
    "while(episode_number < 100):\n",
    "    if render: env.render()\n",
    "\n",
    "    # preprocess the observation, set input to network to be difference image\n",
    "    #start = time.time()\n",
    "    cur_x = pca.transform(observation.reshape(1,-1)).reshape(-1)\n",
    "    #end = time.time()\n",
    "    #print(end - start)\n",
    "    \n",
    "    x = cur_x - prev_x if prev_x is not None else np.zeros(D)\n",
    "    prev_x = cur_x\n",
    "\n",
    "    # forward the policy network and sample an action from the returned probability\n",
    "    #print(x.shape)\n",
    "    aprob, h = policy_forward(x)\n",
    "    action = 2 if np.random.uniform() < aprob else 3 # roll the dice!\n",
    "\n",
    "    # record various intermediates (needed later for backprop)\n",
    "    xs.append(x) # observation\n",
    "    hs.append(h) # hidden state\n",
    "    y = 1 if action == 2 else 0 # a \"fake label\"\n",
    "    dlogps.append(y - aprob) # grad that encourages the action that was taken to be taken (see http://cs231n.github.io/neural-networks-2/#losses if confused)\n",
    "\n",
    "    # step the environment and get new measurements\n",
    "    observation, reward, done, info = env.step(action)\n",
    "    reward_sum += reward\n",
    "\n",
    "    drs.append(reward) # record reward (has to be done after we call step() to get reward for previous action)\n",
    "\n",
    "    if done: # an episode finished\n",
    "        episode_number += 1\n",
    "\n",
    "        # stack together all inputs, hidden states, action gradients, and rewards for this episode\n",
    "        epx = np.vstack(xs)\n",
    "        eph = np.vstack(hs)\n",
    "        epdlogp = np.vstack(dlogps)\n",
    "        epr = np.vstack(drs)\n",
    "        xs,hs,dlogps,drs = [],[],[],[] # reset array memory\n",
    "\n",
    "        # compute the discounted reward backwards through time\n",
    "        discounted_epr = discount_rewards(epr)\n",
    "        # standardize the rewards to be unit normal (helps control the gradient estimator variance)\n",
    "        discounted_epr -= np.mean(discounted_epr)\n",
    "        discounted_epr /= np.std(discounted_epr)\n",
    "\n",
    "        epdlogp *= discounted_epr # modulate the gradient with advantage (PG magic happens right here.)\n",
    "        grad = policy_backward(eph, epdlogp)\n",
    "        for k in model: grad_buffer[k] += grad[k] # accumulate grad over batch\n",
    "\n",
    "        # perform rmsprop parameter update every batch_size episodes\n",
    "        if episode_number % batch_size == 0:\n",
    "            for k,v in model.items():\n",
    "                g = grad_buffer[k] # gradient\n",
    "                rmsprop_cache[k] = decay_rate * rmsprop_cache[k] + (1 - decay_rate) * g**2\n",
    "                model[k] += learning_rate * g / (np.sqrt(rmsprop_cache[k]) + 1e-5)\n",
    "                grad_buffer[k] = np.zeros_like(v) # reset batch gradient buffer\n",
    "\n",
    "        # boring book-keeping\n",
    "        running_reward = reward_sum if running_reward is None else running_reward * 0.99 + reward_sum * 0.01\n",
    "        print('Resetting env. episode {}, reward total was '.format(episode_number) + str(reward_sum) + '. running mean: {0:.2f}'.format(running_reward))\n",
    "\n",
    "        if episode_number % 100 == 0: pickle.dump(model, open('save_prepoc.p', 'wb'))\n",
    "        total_reward = reward_sum\n",
    "        reward_sum = 0\n",
    "        observation = env.reset() # reset env\n",
    "        prev_x = None\n",
    "\n",
    "    #if reward != 0: # Pong has either +1 or -1 reward exactly when game ends.\n",
    "        #print ('ep ' + str(episode_number) + ': game finished, reward: ' + str(reward) + ('' if reward == -1 else ' !!!!!!!!'))\n",
    "        #print(episode_number, reward)\n",
    "\n",
    "end = time.time()\n",
    "print(end - start, reward_sum)\n",
    "total_rewards_pca.append(total_reward)"
   ]
  },
  {
   "cell_type": "code",
   "execution_count": 100,
   "metadata": {},
   "outputs": [
    {
     "data": {
      "text/plain": [
       "0.68515199189031983"
      ]
     },
     "execution_count": 100,
     "metadata": {},
     "output_type": "execute_result"
    }
   ],
   "source": [
    "np.sum(pca.explained_variance_ratio_)"
   ]
  },
  {
   "cell_type": "markdown",
   "metadata": {},
   "source": [
    "### If I modify one of the PCs and reconstruct, I should be able to see what kind of effect it has, and get an intuition as to what each represents"
   ]
  },
  {
   "cell_type": "code",
   "execution_count": 187,
   "metadata": {
    "collapsed": true
   },
   "outputs": [],
   "source": [
    "g = pca.transform(observation.reshape(1,-1))\n",
    "x_hat = np.clip(pca.inverse_transform(g).reshape(210,160,3), 0, 255)"
   ]
  },
  {
   "cell_type": "code",
   "execution_count": 203,
   "metadata": {
    "collapsed": true
   },
   "outputs": [],
   "source": [
    "g2 = pca.transform(observation2.reshape(1,-1))\n",
    "x_hat2 = np.clip(pca.inverse_transform(g2).reshape(210,160,3), 0, 255)"
   ]
  },
  {
   "cell_type": "code",
   "execution_count": null,
   "metadata": {
    "collapsed": true
   },
   "outputs": [],
   "source": []
  },
  {
   "cell_type": "code",
   "execution_count": 190,
   "metadata": {
    "collapsed": true
   },
   "outputs": [],
   "source": [
    "loss = ((observation - x_hat) ** 2).mean()"
   ]
  },
  {
   "cell_type": "code",
   "execution_count": 191,
   "metadata": {},
   "outputs": [
    {
     "data": {
      "text/plain": [
       "6.920626950494654"
      ]
     },
     "execution_count": 191,
     "metadata": {},
     "output_type": "execute_result"
    }
   ],
   "source": [
    "loss"
   ]
  },
  {
   "cell_type": "code",
   "execution_count": 114,
   "metadata": {
    "collapsed": true
   },
   "outputs": [],
   "source": [
    "%matplotlib inline"
   ]
  },
  {
   "cell_type": "code",
   "execution_count": 118,
   "metadata": {},
   "outputs": [
    {
     "data": {
      "text/plain": [
       "-3.38761965109581e-10"
      ]
     },
     "execution_count": 118,
     "metadata": {},
     "output_type": "execute_result"
    }
   ],
   "source": [
    "np.min(x_hat)"
   ]
  },
  {
   "cell_type": "code",
   "execution_count": 119,
   "metadata": {
    "collapsed": true
   },
   "outputs": [],
   "source": [
    "np.clip"
   ]
  },
  {
   "cell_type": "code",
   "execution_count": 117,
   "metadata": {},
   "outputs": [
    {
     "data": {
      "text/plain": [
       "233.42715400647521"
      ]
     },
     "execution_count": 117,
     "metadata": {},
     "output_type": "execute_result"
    }
   ],
   "source": [
    "np.max(x_hat)"
   ]
  },
  {
   "cell_type": "code",
   "execution_count": 139,
   "metadata": {},
   "outputs": [],
   "source": [
    "#env.reset()"
   ]
  },
  {
   "cell_type": "code",
   "execution_count": 202,
   "metadata": {
    "collapsed": true
   },
   "outputs": [],
   "source": [
    "observation2,_,_,_ = env.step(0)"
   ]
  },
  {
   "cell_type": "code",
   "execution_count": 201,
   "metadata": {},
   "outputs": [
    {
     "data": {
      "text/plain": [
       "<matplotlib.image.AxesImage at 0x7fb36d215a58>"
      ]
     },
     "execution_count": 201,
     "metadata": {},
     "output_type": "execute_result"
    },
    {
     "data": {
      "image/png": "[encoded data removed]",
      "text/plain": [
       "<matplotlib.figure.Figure at 0x7fb36d2c0470>"
      ]
     },
     "metadata": {},
     "output_type": "display_data"
    }
   ],
   "source": [
    "plt.figure(figsize=(10,10))\n",
    "plt.imshow((observation + observation)/2)\n",
    "#plt.imshow(observation)"
   ]
  },
  {
   "cell_type": "code",
   "execution_count": 204,
   "metadata": {},
   "outputs": [
    {
     "data": {
      "text/plain": [
       "<matplotlib.image.AxesImage at 0x7fb36d1d7f60>"
      ]
     },
     "execution_count": 204,
     "metadata": {},
     "output_type": "execute_result"
    },
    {
     "data": {
      "image/png": "[encoded data removed]",
      "text/plain": [
       "<matplotlib.figure.Figure at 0x7fb36d4502b0>"
      ]
     },
     "metadata": {},
     "output_type": "display_data"
    }
   ],
   "source": [
    "plt.figure(figsize=(10,10))\n",
    "plt.imshow(x_hat2 - x_hat + x_hat.mean(), cmap=\"plasma\")\n",
    "#plt.imshow(observation)"
   ]
  },
  {
   "cell_type": "code",
   "execution_count": 193,
   "metadata": {},
   "outputs": [
    {
     "data": {
      "text/plain": [
       "98.08631983244976"
      ]
     },
     "execution_count": 193,
     "metadata": {},
     "output_type": "execute_result"
    }
   ],
   "source": [
    "x_hat.mean()"
   ]
  },
  {
   "cell_type": "code",
   "execution_count": 194,
   "metadata": {},
   "outputs": [
    {
     "data": {
      "text/plain": [
       "98.104285714285709"
      ]
     },
     "execution_count": 194,
     "metadata": {},
     "output_type": "execute_result"
    }
   ],
   "source": [
    "observation.mean()"
   ]
  },
  {
   "cell_type": "code",
   "execution_count": 76,
   "metadata": {},
   "outputs": [
    {
     "name": "stdout",
     "output_type": "stream",
     "text": [
      "0.0001480579376220703\n"
     ]
    }
   ],
   "source": [
    "start = time.time()\n",
    "_ = observation * observation\n",
    "end = time.time()\n",
    "print(end - start)"
   ]
  },
  {
   "cell_type": "code",
   "execution_count": 188,
   "metadata": {},
   "outputs": [
    {
     "data": {
      "text/plain": [
       "0.94563590078542992"
      ]
     },
     "execution_count": 188,
     "metadata": {},
     "output_type": "execute_result"
    }
   ],
   "source": [
    "pca.explained_variance_ratio_.sum()"
   ]
  },
  {
   "cell_type": "code",
   "execution_count": 77,
   "metadata": {
    "collapsed": true
   },
   "outputs": [],
   "source": [
    "??pca.transform(observation.reshape(1,-1))"
   ]
  },
  {
   "cell_type": "code",
   "execution_count": 86,
   "metadata": {},
   "outputs": [
    {
     "name": "stdout",
     "output_type": "stream",
     "text": [
      "0.004439830780029297\n"
     ]
    }
   ],
   "source": [
    "start = time.time()\n",
    "cur_x = np.dot(observation.reshape(1,-1), T)\n",
    "end = time.time()\n",
    "print(end - start)"
   ]
  },
  {
   "cell_type": "code",
   "execution_count": 210,
   "metadata": {
    "collapsed": true
   },
   "outputs": [],
   "source": [
    "??pca.transform"
   ]
  },
  {
   "cell_type": "code",
   "execution_count": null,
   "metadata": {
    "collapsed": true
   },
   "outputs": [],
   "source": []
  }
 ],
 "metadata": {
  "kernelspec": {
   "display_name": "Python 3",
   "language": "python",
   "name": "python3"
  },
  "language_info": {
   "codemirror_mode": {
    "name": "ipython",
    "version": 3
   },
   "file_extension": ".py",
   "mimetype": "text/x-python",
   "name": "python",
   "nbconvert_exporter": "python",
   "pygments_lexer": "ipython3",
   "version": "3.5.4"
  }
 },
 "nbformat": 4,
 "nbformat_minor": 2
}
