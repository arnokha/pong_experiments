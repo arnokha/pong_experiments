{
 "cells": [
  {
   "cell_type": "markdown",
   "metadata": {},
   "source": [
    "## Heavily adapted from [here](https://github.com/pytorch/examples/blob/master/vae/main.py)"
   ]
  },
  {
   "cell_type": "code",
   "execution_count": 1,
   "metadata": {
    "collapsed": true
   },
   "outputs": [],
   "source": [
    "from __future__ import print_function\n",
    "import argparse\n",
    "import torch\n",
    "import torch.utils.data\n",
    "from torch import nn, optim\n",
    "from torch.nn import functional as F\n",
    "from torchvision import datasets, transforms\n",
    "from torchvision.utils import save_image"
   ]
  },
  {
   "cell_type": "code",
   "execution_count": 2,
   "metadata": {
    "collapsed": true
   },
   "outputs": [],
   "source": [
    "import numpy as np\n",
    "import gym\n",
    "import matplotlib.pyplot as plt\n",
    "\n",
    "import time\n",
    "import pickle"
   ]
  },
  {
   "cell_type": "code",
   "execution_count": 3,
   "metadata": {
    "collapsed": true
   },
   "outputs": [],
   "source": [
    "device = torch.device(\"cuda\" if torch.cuda.is_available() else \"cpu\")"
   ]
  },
  {
   "cell_type": "code",
   "execution_count": 4,
   "metadata": {
    "collapsed": true
   },
   "outputs": [],
   "source": [
    "batch_size=128\n",
    "epochs = 1000\n",
    "log_interval = 100\n",
    "z_dim = 20"
   ]
  },
  {
   "cell_type": "code",
   "execution_count": 5,
   "metadata": {
    "collapsed": true
   },
   "outputs": [],
   "source": [
    "def prepro(I):\n",
    "    \"\"\" prepro 210x160x3 uint8 frame into 6400 (80x80) 1D float vector -- NOT USED \"\"\"\n",
    "    I = I[35:195] # crop\n",
    "    I = I[::2,::2,0] # downsample by factor of 2, use only \n",
    "    I[I == 144] = 0 # erase background (background type 1)\n",
    "    I[I == 109] = 0 # erase background (background type 2)\n",
    "    return I.astype(np.float)"
   ]
  },
  {
   "cell_type": "code",
   "execution_count": 6,
   "metadata": {
    "collapsed": true
   },
   "outputs": [],
   "source": [
    "class MixedFrames(torch.utils.data.Dataset):\n",
    "    \"\"\"\n",
    "    A customized data set for pong images.\n",
    "    \"\"\"\n",
    "    def __init__(self, _len):\n",
    "        \"\"\" Intialize the dataset\n",
    "        \"\"\"\n",
    "        #self.filenames = []\n",
    "        #self.root = root\n",
    "        self.transform = transforms.ToTensor()\n",
    "        self.len = _len * 3\n",
    "        self.obs = []\n",
    "        \n",
    "        ## Game1\n",
    "        env = gym.make(\"Amidar-v0\")\n",
    "        observation = env.reset()\n",
    "        for i in range(self.len):\n",
    "            observation,_,_,_ = env.step(env.action_space.sample())\n",
    "            self.obs.append(observation)     \n",
    "                \n",
    "        ## Game2\n",
    "        env = gym.make(\"Assault-v0\")\n",
    "        observation = env.reset()\n",
    "        for i in range(self.len):\n",
    "            observation,_,_,_ = env.step(env.action_space.sample())\n",
    "            self.obs.append(observation)\n",
    "                \n",
    "        ## Game3\n",
    "        env = gym.make(\"Centipede-v0\")\n",
    "        observation = env.reset()\n",
    "        for i in range(self.len):\n",
    "            observation,_,_,_ = env.step(env.action_space.sample())\n",
    "            self.obs.append(observation)\n",
    "        \n",
    "    # You must override __getitem__ and __len__\n",
    "    def __getitem__(self, index):\n",
    "        \"\"\" Get a sample from the dataset\n",
    "        \"\"\"\n",
    "        image = self.obs[index]\n",
    "        return self.transform(image)\n",
    "\n",
    "    def __len__(self):\n",
    "        \"\"\"\n",
    "        Total number of samples in the dataset\n",
    "        \"\"\"\n",
    "        return self.len\n"
   ]
  },
  {
   "cell_type": "code",
   "execution_count": 7,
   "metadata": {
    "collapsed": true
   },
   "outputs": [],
   "source": [
    "def is_in_arr_list(arr, arr_list):\n",
    "    for element in arr_list:\n",
    "        if np.array_equal(element, arr):\n",
    "            return True\n",
    "        \n",
    "    return False"
   ]
  },
  {
   "cell_type": "code",
   "execution_count": 8,
   "metadata": {
    "collapsed": true
   },
   "outputs": [],
   "source": [
    "class PongFrames(torch.utils.data.Dataset):\n",
    "    \"\"\"\n",
    "    A customized data set for pong images.\n",
    "    \"\"\"\n",
    "    def __init__(self, _len, discard_duplicates=False, preprocess=False):\n",
    "        \"\"\" Intialize the dataset\n",
    "        \"\"\"\n",
    "        #self.filenames = []\n",
    "        #self.root = root\n",
    "        self.transform = transforms.ToTensor()\n",
    "        self.len = _len\n",
    "        self.obs = []\n",
    "        env = gym.make(\"Pong-v0\")\n",
    "        env.reset()\n",
    "        for i in range(self.len):\n",
    "            #print(i)\n",
    "            observation,_,done,_ = env.step(env.action_space.sample())\n",
    "            if done:\n",
    "                observation = env.reset()\n",
    "            present=False\n",
    "            #self.obs.append(prepro(observation))\n",
    "            if discard_duplicates:\n",
    "                while is_in_arr_list(observation, self.obs):\n",
    "                    #print(i, \"repeat\")\n",
    "                    observation,_,done,_ = env.step(env.action_space.sample())\n",
    "                    if done:\n",
    "                        observation = env.reset()\n",
    "            if not preprocess:\n",
    "                self.obs.append(observation)\n",
    "            else:\n",
    "                self.obs.append(prepro(observation))\n",
    "        #filenames = glob.glob(osp.join(path, '*.jpg'))\n",
    "        #for fn in filenames:\n",
    "        #    self.filenames.append(fn)\n",
    "        #self.len = len(self.filenames)\n",
    "        \n",
    "    # You must override __getitem__ and __len__\n",
    "    def __getitem__(self, index):\n",
    "        \"\"\" Get a sample from the dataset\n",
    "        \"\"\"\n",
    "        image = self.obs[index]\n",
    "        return self.transform(image)\n",
    "\n",
    "    def __len__(self):\n",
    "        \"\"\"\n",
    "        Total number of samples in the dataset\n",
    "        \"\"\"\n",
    "        return self.len\n"
   ]
  },
  {
   "cell_type": "code",
   "execution_count": 9,
   "metadata": {},
   "outputs": [],
   "source": [
    "use_mixed = False\n",
    "discard_duplicates = True\n",
    "preproc = True\n",
    "n_train_examples = 300\n",
    "n_test_examples = 450\n",
    "\n",
    "if not use_mixed:\n",
    "    ## Set up data set and data loader\n",
    "    pong_frames = PongFrames(n_train_examples, discard_duplicates=discard_duplicates, preprocess=preproc)\n",
    "    pong_frames_test = PongFrames(n_test_examples, preprocess=preproc)\n",
    "    im_dm = pong_frames[0].view(-1).size()[0]\n",
    "\n",
    "    train_loader = torch.utils.data.DataLoader(\n",
    "        pong_frames,\n",
    "        batch_size=batch_size, shuffle=True)\n",
    "\n",
    "    test_loader = torch.utils.data.DataLoader(\n",
    "        pong_frames_test,\n",
    "        batch_size=batch_size, shuffle=True)\n",
    "    \n",
    "    im_dims = pong_frames[0].size()\n",
    "else:\n",
    "    ## Set up data set and data loader (Multiple games: 3)\n",
    "    mixed_frames = MixedFrames(n_train_examples)\n",
    "    mixed_frames_test = MixedFrames(n_test_examples)\n",
    "    im_dm = mixed_frames[0].view(-1).size()[0]\n",
    "\n",
    "    train_loader = torch.utils.data.DataLoader(\n",
    "        mixed_frames,\n",
    "        batch_size=batch_size, shuffle=True)\n",
    "\n",
    "    test_loader = torch.utils.data.DataLoader(\n",
    "        mixed_frames_test,\n",
    "        batch_size=batch_size, shuffle=True)\n",
    "    \n",
    "    im_dims = mixed_frames[0].size()"
   ]
  },
  {
   "cell_type": "code",
   "execution_count": 10,
   "metadata": {
    "collapsed": true
   },
   "outputs": [],
   "source": [
    "class VAE(nn.Module):\n",
    "    def __init__(self):\n",
    "        super(VAE, self).__init__()\n",
    "\n",
    "        ## Encode\n",
    "        self.fce1 = nn.Linear(im_dm, 3200)\n",
    "        self.fce2 = nn.Linear(3200, 1600)\n",
    "        self.fce3 = nn.Linear(1600, 800)\n",
    "        self.fce4 = nn.Linear(800, 400)\n",
    "        # Sigma2, Mu\n",
    "        self.fce51 = nn.Linear(400, z_dim)\n",
    "        self.fce52 = nn.Linear(400, z_dim)\n",
    "        \n",
    "        ## Decode\n",
    "        self.fcd1 = nn.Linear(z_dim, 400)\n",
    "        self.fcd2 = nn.Linear(400, 800)\n",
    "        self.fcd3 = nn.Linear(800, 1600)\n",
    "        self.fcd4 = nn.Linear(1600, 3200)\n",
    "        self.fcd5 = nn.Linear(3200, im_dm)\n",
    "        #self.fc4 = nn.Linear(800, 80*80)\n",
    "\n",
    "    def encode(self, x):\n",
    "        eh1 = torch.sigmoid(self.fce1(x))\n",
    "        eh2 = torch.sigmoid(self.fce2(eh1))\n",
    "        eh3 = torch.sigmoid(self.fce3(eh2))\n",
    "        eh4 = torch.sigmoid(self.fce4(eh3))\n",
    "        return self.fce51(eh4), self.fce52(eh4)\n",
    "\n",
    "    def reparameterize(self, mu, logvar):\n",
    "        std = torch.exp(0.5*logvar)\n",
    "        eps = torch.randn_like(std)\n",
    "        return mu + eps*std\n",
    "\n",
    "    def decode(self, z):\n",
    "        dh1 = torch.sigmoid(self.fcd1(z))\n",
    "        dh2 = torch.sigmoid(self.fcd2(dh1))\n",
    "        dh3 = torch.sigmoid(self.fcd3(dh2))\n",
    "        dh4 = torch.sigmoid(self.fcd4(dh3))\n",
    "        #return torch.relu(self.fcd5(dh4))\n",
    "        return torch.sigmoid(self.fcd5(dh4))\n",
    "\n",
    "    def forward(self, x):\n",
    "        mu, logvar = self.encode(x.view(-1, im_dm))\n",
    "        #mu, logvar = self.encode(x.view(-1, 80*80))\n",
    "        z = self.reparameterize(mu, logvar)\n",
    "        return self.decode(z), mu, logvar"
   ]
  },
  {
   "cell_type": "code",
   "execution_count": 10,
   "metadata": {
    "collapsed": true
   },
   "outputs": [],
   "source": [
    "class VAE(nn.Module):\n",
    "    def __init__(self):\n",
    "        super(VAE, self).__init__()\n",
    "\n",
    "        self.fc1 = nn.Linear(im_dm, 800)\n",
    "        #self.fc1 = nn.Linear(80*80, 800)\n",
    "        self.fc21 = nn.Linear(800, z_dim)\n",
    "        self.fc22 = nn.Linear(800, z_dim)\n",
    "        self.fc3 = nn.Linear(z_dim, 800)\n",
    "        self.fc4 = nn.Linear(800, im_dm)\n",
    "        #self.fc4 = nn.Linear(800, 80*80)\n",
    "\n",
    "    def encode(self, x):\n",
    "        h1 = torch.sigmoid(self.fc1(x))\n",
    "        return self.fc21(h1), self.fc22(h1)\n",
    "\n",
    "    def reparameterize(self, mu, logvar):\n",
    "        std = torch.exp(0.5*logvar)\n",
    "        eps = torch.randn_like(std)\n",
    "        return mu + eps*std\n",
    "\n",
    "    def decode(self, z):\n",
    "        h3 = torch.sigmoid(self.fc3(z))\n",
    "        return torch.relu(self.fc4(h3))\n",
    "\n",
    "    def forward(self, x):\n",
    "        mu, logvar = self.encode(x.view(-1, im_dm))\n",
    "        #mu, logvar = self.encode(x.view(-1, 80*80))\n",
    "        z = self.reparameterize(mu, logvar)\n",
    "        return self.decode(z), mu, logvar\n",
    "    "
   ]
  },
  {
   "cell_type": "markdown",
   "metadata": {},
   "source": [
    "## Test MNIST\n",
    "train_loader = torch.utils.data.DataLoader(\n",
    "    datasets.MNIST('../data', train=True, download=True,\n",
    "                    transform=transforms.ToTensor()\n",
    "                  ),\n",
    "    batch_size=batch_size, shuffle=True)\n",
    "\n",
    "test_loader = torch.utils.data.DataLoader(\n",
    "    datasets.MNIST('../data', train=False, transform=transforms.ToTensor()),\n",
    "    batch_size=batch_size, shuffle=True)\n",
    "\n",
    "im_dm = 28*28\n",
    "im_dims = torch.tensor([1,28,28])"
   ]
  },
  {
   "cell_type": "code",
   "execution_count": 11,
   "metadata": {},
   "outputs": [],
   "source": [
    "vae_model = VAE().to(device)\n",
    "optimizer = optim.Adam(vae_model.parameters(), lr=1e-3)"
   ]
  },
  {
   "cell_type": "code",
   "execution_count": 20,
   "metadata": {
    "collapsed": true
   },
   "outputs": [],
   "source": [
    "# Reconstruction + KL divergence losses summed over all elements and batch\n",
    "def loss_function(recon_x, x, mu, logvar, beta=1):\n",
    "    #BCE = F.binary_cross_entropy(recon_x, x.view(-1, im_dm), reduction='sum')\n",
    "    L1 = F.l1_loss(recon_x, x.view(-1, im_dm))\n",
    "    #L1 = F.l1_loss(recon_x, x.view(-1, 80*80))\n",
    "\n",
    "    # see Appendix B from VAE paper:\n",
    "    # Kingma and Welling. Auto-Encoding Variational Bayes. ICLR, 2014\n",
    "    # https://arxiv.org/abs/1312.6114\n",
    "    # 0.5 * sum(1 + log(sigma^2) - mu^2 - sigma^2)\n",
    "    KLD = -0.5 * torch.sum(1 + logvar - mu.pow(2) - logvar.exp())\n",
    "\n",
    "    ## New loss added by Arno. K -- weak guess loss: punish the network for trying to predict all zeros\n",
    "    WGL = 1 / recon_x.mean()\n",
    "    \n",
    "    #print(BCE, KLD)\n",
    "    #return BCE + beta * KLD    \n",
    "    return L1 + (beta * KLD) + (0.01 * WGL**0.1)    \n",
    "    #return L1 + (beta * KLD)"
   ]
  },
  {
   "cell_type": "code",
   "execution_count": 21,
   "metadata": {},
   "outputs": [],
   "source": [
    "def train(epoch):\n",
    "    vae_model.train()\n",
    "    train_loss = 0\n",
    "    #for batch_idx, (data, _) in enumerate(train_loader):\n",
    "    for batch_idx, data in enumerate(train_loader):\n",
    "    #for batch_idx, (data, _) in enumerate(train_loader):\n",
    "        data = data.to(device).float()\n",
    "        optimizer.zero_grad()\n",
    "        recon_batch, mu, logvar = vae_model(data)\n",
    "        loss = loss_function(recon_batch, data, mu, logvar, beta=0.1)\n",
    "        loss.backward()\n",
    "        train_loss += loss.item()\n",
    "        optimizer.step()\n",
    "        if batch_idx % log_interval == 0:\n",
    "            print('Train Epoch: {} [{}/{} ({:.0f}%)]\\tLoss: {:.6f}'.format(\n",
    "                epoch, batch_idx * len(data), len(train_loader.dataset),\n",
    "                100. * batch_idx / len(train_loader),\n",
    "                loss.item() / len(data)))\n",
    "            \n",
    "            r = recon_batch.view(min(batch_size, data.size(0)), im_dims[0], im_dims[1], im_dims[2])\n",
    "            #print(r[0].cpu().detach().numpy().reshape(im_dims[1], im_dims[2], im_dims[0]).shape)\n",
    "            plt.imshow(r[0].cpu().detach().numpy().reshape(im_dims[1], im_dims[2]))\n",
    "            plt.show()\n",
    "\n",
    "    print('====> Epoch: {} Average loss: {:.4f}'.format(epoch, train_loss / len(train_loader.dataset)))"
   ]
  },
  {
   "cell_type": "code",
   "execution_count": 22,
   "metadata": {
    "collapsed": true
   },
   "outputs": [],
   "source": [
    "def test(epoch):\n",
    "    vae_model.eval()\n",
    "    test_loss = 0\n",
    "    with torch.no_grad():\n",
    "        #for i, (data, _) in enumerate(test_loader):\n",
    "        for i, data in enumerate(test_loader):\n",
    "        #for i, (data, _) in enumerate(test_loader):\n",
    "            data = data.to(device).float()\n",
    "            recon_batch, mu, logvar = vae_model(data)\n",
    "            #print(data.shape, recon_batch.shape)\n",
    "            test_loss += loss_function(recon_batch, data, mu, logvar).item()\n",
    "            if i == 0:\n",
    "                n = min(data.size(0), 8)\n",
    "                #plt.imshow(data[0].cpu().numpy().reshape(250,160,3))\n",
    "                #plt.show()\n",
    "                #comparison = torch.cat([data[:n],recon_batch.view(batch_size, 1, 28, 28)[:n]])\n",
    "                comparison = torch.cat([data[:n],recon_batch.view(batch_size, im_dims[0], im_dims[1], im_dims[2])[:n]])\n",
    "                #comparison = torch.cat([data[:n],recon_batch.view(batch_size, 1, 80, 80)[:n]])\n",
    "                save_image(comparison.cpu(),\n",
    "                         'results/reconstruction_' + str(epoch) + '.png', nrow=n)\n",
    "\n",
    "    test_loss /= len(test_loader.dataset)\n",
    "    print('====> Test set loss: {:.4f}'.format(test_loss))"
   ]
  },
  {
   "cell_type": "code",
   "execution_count": 24,
   "metadata": {
    "scrolled": true
   },
   "outputs": [
    {
     "name": "stdout",
     "output_type": "stream",
     "text": [
      "Train Epoch: 1 [0/300 (0%)]\tLoss: 0.006356\n"
     ]
    },
    {
     "data": {
      "image/png": "[encoded data removed]",
      "text/plain": [
       "<matplotlib.figure.Figure at 0x7f82b6e84c18>"
      ]
     },
     "metadata": {},
     "output_type": "display_data"
    },
    {
     "name": "stdout",
     "output_type": "stream",
     "text": [
      "====> Epoch: 1 Average loss: 0.0079\n",
      "====> Test set loss: 0.1540\n",
      "Train Epoch: 2 [0/300 (0%)]\tLoss: 0.006266\n"
     ]
    },
    {
     "data": {
      "image/png": "[encoded data removed]",
      "text/plain": [
       "<matplotlib.figure.Figure at 0x7f82b7fafb38>"
      ]
     },
     "metadata": {},
     "output_type": "display_data"
    },
    {
     "name": "stdout",
     "output_type": "stream",
     "text": [
      "====> Epoch: 2 Average loss: 0.0079\n",
      "====> Test set loss: 0.1549\n",
      "Train Epoch: 3 [0/300 (0%)]\tLoss: 0.006274\n"
     ]
    },
    {
     "data": {
      "image/png": "[encoded data removed]",
      "text/plain": [
       "<matplotlib.figure.Figure at 0x7f82b7f4ec18>"
      ]
     },
     "metadata": {},
     "output_type": "display_data"
    },
    {
     "name": "stdout",
     "output_type": "stream",
     "text": [
      "====> Epoch: 3 Average loss: 0.0078\n",
      "====> Test set loss: 0.1545\n",
      "Train Epoch: 4 [0/300 (0%)]\tLoss: 0.006211\n"
     ]
    },
    {
     "data": {
      "image/png": "[encoded data removed]",
      "text/plain": [
       "<matplotlib.figure.Figure at 0x7f82b6de1ba8>"
      ]
     },
     "metadata": {},
     "output_type": "display_data"
    },
    {
     "name": "stdout",
     "output_type": "stream",
     "text": [
      "====> Epoch: 4 Average loss: 0.0077\n",
      "====> Test set loss: 0.1544\n",
      "Train Epoch: 5 [0/300 (0%)]\tLoss: 0.005990\n"
     ]
    },
    {
     "data": {
      "image/png": "[encoded data removed]",
      "text/plain": [
       "<matplotlib.figure.Figure at 0x7f82b6e9df60>"
      ]
     },
     "metadata": {},
     "output_type": "display_data"
    },
    {
     "name": "stdout",
     "output_type": "stream",
     "text": [
      "====> Epoch: 5 Average loss: 0.0086\n",
      "====> Test set loss: 0.1605\n",
      "Train Epoch: 6 [0/300 (0%)]\tLoss: 0.006809\n"
     ]
    },
    {
     "data": {
      "image/png": "[encoded data removed]",
      "text/plain": [
       "<matplotlib.figure.Figure at 0x7f82b6e20470>"
      ]
     },
     "metadata": {},
     "output_type": "display_data"
    },
    {
     "name": "stdout",
     "output_type": "stream",
     "text": [
      "====> Epoch: 6 Average loss: 0.0087\n",
      "====> Test set loss: 0.1587\n",
      "Train Epoch: 7 [0/300 (0%)]\tLoss: 0.006617\n"
     ]
    },
    {
     "data": {
      "image/png": "[encoded data removed]",
      "text/plain": [
       "<matplotlib.figure.Figure at 0x7f82b6d4eb00>"
      ]
     },
     "metadata": {},
     "output_type": "display_data"
    },
    {
     "name": "stdout",
     "output_type": "stream",
     "text": [
      "====> Epoch: 7 Average loss: 0.0082\n",
      "====> Test set loss: 0.1580\n",
      "Train Epoch: 8 [0/300 (0%)]\tLoss: 0.006534\n"
     ]
    },
    {
     "data": {
      "image/png": "[encoded data removed]",
      "text/plain": [
       "<matplotlib.figure.Figure at 0x7f82b6e437b8>"
      ]
     },
     "metadata": {},
     "output_type": "display_data"
    },
    {
     "name": "stdout",
     "output_type": "stream",
     "text": [
      "====> Epoch: 8 Average loss: 0.0082\n",
      "====> Test set loss: 0.1539\n",
      "Train Epoch: 9 [0/300 (0%)]\tLoss: 0.006285\n"
     ]
    },
    {
     "data": {
      "image/png": "[encoded data removed]",
      "text/plain": [
       "<matplotlib.figure.Figure at 0x7f82b6d39e10>"
      ]
     },
     "metadata": {},
     "output_type": "display_data"
    },
    {
     "name": "stdout",
     "output_type": "stream",
     "text": [
      "====> Epoch: 9 Average loss: 0.0078\n",
      "====> Test set loss: 0.1547\n",
      "Train Epoch: 10 [0/300 (0%)]\tLoss: 0.006328\n"
     ]
    },
    {
     "data": {
      "image/png": "[encoded data removed]",
      "text/plain": [
       "<matplotlib.figure.Figure at 0x7f82b6db5e10>"
      ]
     },
     "metadata": {},
     "output_type": "display_data"
    },
    {
     "name": "stdout",
     "output_type": "stream",
     "text": [
      "====> Epoch: 10 Average loss: 0.0080\n",
      "====> Test set loss: 0.1537\n"
     ]
    }
   ],
   "source": [
    "## Main\n",
    "epochs = 10\n",
    "for epoch in range(1, epochs + 1):\n",
    "    if epoch == epochs // 2: optimizer = optim.Adam(vae_model.parameters(), lr=1e-4)\n",
    "    train(epoch)\n",
    "    test(epoch)\n",
    "    if epochs % 10 == 0:\n",
    "        with torch.no_grad():\n",
    "            sample = torch.randn(64, z_dim).to(device)\n",
    "            sample = vae_model.decode(sample).cpu()\n",
    "            #save_image(sample.view(64, 1, 28, 28),'results/sample_' + str(epoch) + '.png')\n",
    "            save_image(sample.view(64, im_dims[0], im_dims[1], im_dims[2]),'results/sample_' + str(epoch) + '.png')\n",
    "            #save_image(sample.view(64, 1, 80, 80),'results/sample_' + str(epoch) + '.png')            "
   ]
  },
  {
   "cell_type": "code",
   "execution_count": 305,
   "metadata": {
    "collapsed": true
   },
   "outputs": [],
   "source": [
    "a = torch.tensor([1,2])"
   ]
  },
  {
   "cell_type": "code",
   "execution_count": null,
   "metadata": {
    "collapsed": true
   },
   "outputs": [],
   "source": [
    "a."
   ]
  },
  {
   "cell_type": "markdown",
   "metadata": {},
   "source": [
    "## Using Preprocessed frames as input"
   ]
  },
  {
   "cell_type": "code",
   "execution_count": 44,
   "metadata": {
    "scrolled": true
   },
   "outputs": [
    {
     "name": "stdout",
     "output_type": "stream",
     "text": [
      "resetting env. episode reward total was -21.0. running mean: -21.00\n",
      "resetting env. episode reward total was -21.0. running mean: -21.00\n",
      "resetting env. episode reward total was -20.0. running mean: -20.99\n",
      "resetting env. episode reward total was -21.0. running mean: -20.99\n",
      "resetting env. episode reward total was -21.0. running mean: -20.99\n",
      "resetting env. episode reward total was -21.0. running mean: -20.99\n",
      "resetting env. episode reward total was -20.0. running mean: -20.98\n",
      "resetting env. episode reward total was -20.0. running mean: -20.97\n",
      "resetting env. episode reward total was -21.0. running mean: -20.97\n",
      "resetting env. episode reward total was -20.0. running mean: -20.96\n",
      "resetting env. episode reward total was -20.0. running mean: -20.95\n",
      "resetting env. episode reward total was -19.0. running mean: -20.93\n",
      "resetting env. episode reward total was -20.0. running mean: -20.92\n",
      "resetting env. episode reward total was -21.0. running mean: -20.92\n",
      "resetting env. episode reward total was -19.0. running mean: -20.90\n",
      "resetting env. episode reward total was -21.0. running mean: -20.91\n",
      "resetting env. episode reward total was -21.0. running mean: -20.91\n",
      "resetting env. episode reward total was -19.0. running mean: -20.89\n",
      "resetting env. episode reward total was -21.0. running mean: -20.89\n",
      "resetting env. episode reward total was -21.0. running mean: -20.89\n",
      "resetting env. episode reward total was -18.0. running mean: -20.86\n",
      "resetting env. episode reward total was -21.0. running mean: -20.86\n",
      "resetting env. episode reward total was -19.0. running mean: -20.84\n",
      "resetting env. episode reward total was -20.0. running mean: -20.83\n",
      "resetting env. episode reward total was -21.0. running mean: -20.84\n",
      "resetting env. episode reward total was -20.0. running mean: -20.83\n",
      "resetting env. episode reward total was -21.0. running mean: -20.83\n",
      "resetting env. episode reward total was -21.0. running mean: -20.83\n",
      "resetting env. episode reward total was -20.0. running mean: -20.82\n",
      "resetting env. episode reward total was -21.0. running mean: -20.82\n",
      "resetting env. episode reward total was -20.0. running mean: -20.82\n",
      "resetting env. episode reward total was -20.0. running mean: -20.81\n",
      "resetting env. episode reward total was -21.0. running mean: -20.81\n",
      "resetting env. episode reward total was -20.0. running mean: -20.80\n",
      "resetting env. episode reward total was -21.0. running mean: -20.80\n",
      "resetting env. episode reward total was -21.0. running mean: -20.81\n",
      "resetting env. episode reward total was -21.0. running mean: -20.81\n",
      "resetting env. episode reward total was -21.0. running mean: -20.81\n",
      "resetting env. episode reward total was -21.0. running mean: -20.81\n",
      "resetting env. episode reward total was -21.0. running mean: -20.81\n",
      "resetting env. episode reward total was -20.0. running mean: -20.81\n",
      "resetting env. episode reward total was -18.0. running mean: -20.78\n",
      "resetting env. episode reward total was -21.0. running mean: -20.78\n",
      "resetting env. episode reward total was -21.0. running mean: -20.78\n",
      "resetting env. episode reward total was -21.0. running mean: -20.78\n",
      "resetting env. episode reward total was -21.0. running mean: -20.79\n",
      "resetting env. episode reward total was -19.0. running mean: -20.77\n",
      "resetting env. episode reward total was -20.0. running mean: -20.76\n",
      "resetting env. episode reward total was -20.0. running mean: -20.75\n",
      "resetting env. episode reward total was -21.0. running mean: -20.76\n",
      "resetting env. episode reward total was -19.0. running mean: -20.74\n",
      "resetting env. episode reward total was -21.0. running mean: -20.74\n",
      "resetting env. episode reward total was -21.0. running mean: -20.74\n",
      "resetting env. episode reward total was -21.0. running mean: -20.75\n",
      "resetting env. episode reward total was -21.0. running mean: -20.75\n",
      "resetting env. episode reward total was -21.0. running mean: -20.75\n",
      "resetting env. episode reward total was -21.0. running mean: -20.75\n",
      "resetting env. episode reward total was -21.0. running mean: -20.76\n",
      "resetting env. episode reward total was -21.0. running mean: -20.76\n",
      "resetting env. episode reward total was -19.0. running mean: -20.74\n",
      "resetting env. episode reward total was -20.0. running mean: -20.73\n",
      "resetting env. episode reward total was -21.0. running mean: -20.74\n",
      "resetting env. episode reward total was -19.0. running mean: -20.72\n",
      "resetting env. episode reward total was -21.0. running mean: -20.72\n",
      "resetting env. episode reward total was -18.0. running mean: -20.69\n",
      "resetting env. episode reward total was -20.0. running mean: -20.69\n",
      "resetting env. episode reward total was -21.0. running mean: -20.69\n",
      "resetting env. episode reward total was -20.0. running mean: -20.68\n",
      "resetting env. episode reward total was -20.0. running mean: -20.68\n",
      "resetting env. episode reward total was -21.0. running mean: -20.68\n",
      "resetting env. episode reward total was -21.0. running mean: -20.68\n",
      "resetting env. episode reward total was -19.0. running mean: -20.67\n",
      "resetting env. episode reward total was -20.0. running mean: -20.66\n",
      "resetting env. episode reward total was -21.0. running mean: -20.66\n",
      "resetting env. episode reward total was -21.0. running mean: -20.67\n",
      "resetting env. episode reward total was -21.0. running mean: -20.67\n",
      "resetting env. episode reward total was -20.0. running mean: -20.66\n",
      "resetting env. episode reward total was -21.0. running mean: -20.67\n",
      "resetting env. episode reward total was -14.0. running mean: -20.60\n",
      "resetting env. episode reward total was -19.0. running mean: -20.58\n",
      "resetting env. episode reward total was -21.0. running mean: -20.59\n",
      "resetting env. episode reward total was -21.0. running mean: -20.59\n",
      "resetting env. episode reward total was -19.0. running mean: -20.58\n",
      "resetting env. episode reward total was -18.0. running mean: -20.55\n",
      "resetting env. episode reward total was -20.0. running mean: -20.54\n",
      "resetting env. episode reward total was -21.0. running mean: -20.55\n",
      "resetting env. episode reward total was -21.0. running mean: -20.55\n",
      "resetting env. episode reward total was -21.0. running mean: -20.56\n",
      "resetting env. episode reward total was -20.0. running mean: -20.55\n",
      "resetting env. episode reward total was -21.0. running mean: -20.56\n",
      "resetting env. episode reward total was -21.0. running mean: -20.56\n",
      "resetting env. episode reward total was -20.0. running mean: -20.56\n",
      "resetting env. episode reward total was -20.0. running mean: -20.55\n",
      "resetting env. episode reward total was -21.0. running mean: -20.56\n",
      "resetting env. episode reward total was -21.0. running mean: -20.56\n",
      "resetting env. episode reward total was -21.0. running mean: -20.56\n",
      "resetting env. episode reward total was -21.0. running mean: -20.57\n",
      "resetting env. episode reward total was -21.0. running mean: -20.57\n",
      "resetting env. episode reward total was -21.0. running mean: -20.58\n",
      "resetting env. episode reward total was -21.0. running mean: -20.58\n",
      "resetting env. episode reward total was -18.0. running mean: -20.56\n",
      "resetting env. episode reward total was -19.0. running mean: -20.54\n",
      "resetting env. episode reward total was -21.0. running mean: -20.54\n",
      "resetting env. episode reward total was -20.0. running mean: -20.54\n",
      "resetting env. episode reward total was -21.0. running mean: -20.54\n",
      "resetting env. episode reward total was -20.0. running mean: -20.54\n",
      "resetting env. episode reward total was -21.0. running mean: -20.54\n",
      "resetting env. episode reward total was -21.0. running mean: -20.55\n",
      "resetting env. episode reward total was -21.0. running mean: -20.55\n",
      "resetting env. episode reward total was -20.0. running mean: -20.55\n",
      "resetting env. episode reward total was -21.0. running mean: -20.55\n",
      "resetting env. episode reward total was -20.0. running mean: -20.55\n",
      "resetting env. episode reward total was -20.0. running mean: -20.54\n",
      "resetting env. episode reward total was -19.0. running mean: -20.52\n",
      "resetting env. episode reward total was -21.0. running mean: -20.53\n",
      "resetting env. episode reward total was -21.0. running mean: -20.53\n",
      "resetting env. episode reward total was -20.0. running mean: -20.53\n",
      "resetting env. episode reward total was -19.0. running mean: -20.51\n",
      "resetting env. episode reward total was -18.0. running mean: -20.49\n",
      "resetting env. episode reward total was -20.0. running mean: -20.48\n",
      "resetting env. episode reward total was -20.0. running mean: -20.48\n"
     ]
    },
    {
     "name": "stdout",
     "output_type": "stream",
     "text": [
      "resetting env. episode reward total was -21.0. running mean: -20.48\n",
      "resetting env. episode reward total was -20.0. running mean: -20.48\n",
      "resetting env. episode reward total was -19.0. running mean: -20.46\n",
      "resetting env. episode reward total was -21.0. running mean: -20.47\n",
      "resetting env. episode reward total was -21.0. running mean: -20.47\n",
      "resetting env. episode reward total was -21.0. running mean: -20.48\n",
      "resetting env. episode reward total was -19.0. running mean: -20.47\n",
      "resetting env. episode reward total was -21.0. running mean: -20.47\n",
      "resetting env. episode reward total was -21.0. running mean: -20.48\n",
      "resetting env. episode reward total was -20.0. running mean: -20.47\n",
      "resetting env. episode reward total was -21.0. running mean: -20.48\n",
      "resetting env. episode reward total was -20.0. running mean: -20.47\n",
      "resetting env. episode reward total was -21.0. running mean: -20.48\n",
      "resetting env. episode reward total was -20.0. running mean: -20.47\n",
      "resetting env. episode reward total was -20.0. running mean: -20.47\n",
      "resetting env. episode reward total was -21.0. running mean: -20.47\n",
      "resetting env. episode reward total was -21.0. running mean: -20.48\n",
      "resetting env. episode reward total was -21.0. running mean: -20.48\n",
      "resetting env. episode reward total was -21.0. running mean: -20.49\n",
      "resetting env. episode reward total was -21.0. running mean: -20.49\n",
      "resetting env. episode reward total was -21.0. running mean: -20.50\n",
      "resetting env. episode reward total was -21.0. running mean: -20.50\n",
      "resetting env. episode reward total was -21.0. running mean: -20.51\n",
      "resetting env. episode reward total was -18.0. running mean: -20.48\n",
      "resetting env. episode reward total was -19.0. running mean: -20.47\n",
      "resetting env. episode reward total was -21.0. running mean: -20.47\n",
      "resetting env. episode reward total was -21.0. running mean: -20.48\n",
      "resetting env. episode reward total was -21.0. running mean: -20.48\n",
      "resetting env. episode reward total was -21.0. running mean: -20.49\n",
      "resetting env. episode reward total was -21.0. running mean: -20.49\n",
      "resetting env. episode reward total was -21.0. running mean: -20.50\n",
      "resetting env. episode reward total was -20.0. running mean: -20.49\n",
      "resetting env. episode reward total was -21.0. running mean: -20.50\n",
      "resetting env. episode reward total was -20.0. running mean: -20.49\n",
      "resetting env. episode reward total was -20.0. running mean: -20.49\n",
      "resetting env. episode reward total was -21.0. running mean: -20.49\n",
      "resetting env. episode reward total was -20.0. running mean: -20.49\n",
      "resetting env. episode reward total was -20.0. running mean: -20.49\n",
      "resetting env. episode reward total was -21.0. running mean: -20.49\n",
      "resetting env. episode reward total was -21.0. running mean: -20.50\n",
      "resetting env. episode reward total was -21.0. running mean: -20.50\n",
      "resetting env. episode reward total was -21.0. running mean: -20.51\n",
      "resetting env. episode reward total was -21.0. running mean: -20.51\n",
      "resetting env. episode reward total was -21.0. running mean: -20.52\n",
      "resetting env. episode reward total was -21.0. running mean: -20.52\n",
      "resetting env. episode reward total was -20.0. running mean: -20.51\n",
      "resetting env. episode reward total was -20.0. running mean: -20.51\n",
      "resetting env. episode reward total was -19.0. running mean: -20.49\n",
      "resetting env. episode reward total was -20.0. running mean: -20.49\n",
      "resetting env. episode reward total was -21.0. running mean: -20.49\n",
      "resetting env. episode reward total was -21.0. running mean: -20.50\n",
      "resetting env. episode reward total was -21.0. running mean: -20.50\n",
      "resetting env. episode reward total was -21.0. running mean: -20.51\n",
      "resetting env. episode reward total was -21.0. running mean: -20.51\n",
      "resetting env. episode reward total was -21.0. running mean: -20.52\n",
      "resetting env. episode reward total was -21.0. running mean: -20.52\n",
      "resetting env. episode reward total was -19.0. running mean: -20.51\n",
      "resetting env. episode reward total was -21.0. running mean: -20.51\n",
      "resetting env. episode reward total was -21.0. running mean: -20.52\n",
      "resetting env. episode reward total was -21.0. running mean: -20.52\n",
      "resetting env. episode reward total was -21.0. running mean: -20.53\n",
      "resetting env. episode reward total was -19.0. running mean: -20.51\n",
      "resetting env. episode reward total was -21.0. running mean: -20.52\n",
      "resetting env. episode reward total was -19.0. running mean: -20.50\n",
      "resetting env. episode reward total was -21.0. running mean: -20.51\n",
      "resetting env. episode reward total was -21.0. running mean: -20.51\n",
      "resetting env. episode reward total was -21.0. running mean: -20.52\n",
      "resetting env. episode reward total was -21.0. running mean: -20.52\n",
      "resetting env. episode reward total was -21.0. running mean: -20.53\n",
      "resetting env. episode reward total was -21.0. running mean: -20.53\n",
      "resetting env. episode reward total was -21.0. running mean: -20.54\n",
      "resetting env. episode reward total was -20.0. running mean: -20.53\n",
      "resetting env. episode reward total was -21.0. running mean: -20.54\n",
      "resetting env. episode reward total was -21.0. running mean: -20.54\n",
      "resetting env. episode reward total was -21.0. running mean: -20.55\n",
      "resetting env. episode reward total was -21.0. running mean: -20.55\n",
      "resetting env. episode reward total was -20.0. running mean: -20.54\n",
      "resetting env. episode reward total was -19.0. running mean: -20.53\n",
      "resetting env. episode reward total was -21.0. running mean: -20.53\n",
      "resetting env. episode reward total was -20.0. running mean: -20.53\n",
      "resetting env. episode reward total was -20.0. running mean: -20.52\n",
      "resetting env. episode reward total was -20.0. running mean: -20.52\n",
      "resetting env. episode reward total was -21.0. running mean: -20.52\n",
      "resetting env. episode reward total was -21.0. running mean: -20.53\n",
      "resetting env. episode reward total was -20.0. running mean: -20.52\n",
      "resetting env. episode reward total was -21.0. running mean: -20.53\n",
      "resetting env. episode reward total was -19.0. running mean: -20.51\n",
      "resetting env. episode reward total was -21.0. running mean: -20.52\n",
      "resetting env. episode reward total was -20.0. running mean: -20.51\n",
      "resetting env. episode reward total was -21.0. running mean: -20.52\n",
      "resetting env. episode reward total was -21.0. running mean: -20.52\n",
      "resetting env. episode reward total was -21.0. running mean: -20.53\n",
      "resetting env. episode reward total was -21.0. running mean: -20.53\n",
      "resetting env. episode reward total was -20.0. running mean: -20.53\n",
      "resetting env. episode reward total was -20.0. running mean: -20.52\n",
      "resetting env. episode reward total was -21.0. running mean: -20.52\n",
      "resetting env. episode reward total was -21.0. running mean: -20.53\n",
      "resetting env. episode reward total was -19.0. running mean: -20.51\n",
      "resetting env. episode reward total was -19.0. running mean: -20.50\n",
      "resetting env. episode reward total was -21.0. running mean: -20.50\n",
      "resetting env. episode reward total was -21.0. running mean: -20.51\n",
      "resetting env. episode reward total was -21.0. running mean: -20.51\n",
      "resetting env. episode reward total was -20.0. running mean: -20.51\n",
      "resetting env. episode reward total was -21.0. running mean: -20.51\n",
      "resetting env. episode reward total was -21.0. running mean: -20.52\n",
      "resetting env. episode reward total was -18.0. running mean: -20.49\n",
      "resetting env. episode reward total was -21.0. running mean: -20.50\n",
      "resetting env. episode reward total was -21.0. running mean: -20.50\n",
      "resetting env. episode reward total was -20.0. running mean: -20.50\n",
      "resetting env. episode reward total was -20.0. running mean: -20.49\n",
      "resetting env. episode reward total was -21.0. running mean: -20.50\n",
      "resetting env. episode reward total was -21.0. running mean: -20.50\n",
      "resetting env. episode reward total was -21.0. running mean: -20.51\n",
      "resetting env. episode reward total was -20.0. running mean: -20.50\n",
      "resetting env. episode reward total was -21.0. running mean: -20.51\n",
      "resetting env. episode reward total was -21.0. running mean: -20.51\n",
      "resetting env. episode reward total was -20.0. running mean: -20.51\n",
      "resetting env. episode reward total was -21.0. running mean: -20.51\n",
      "resetting env. episode reward total was -20.0. running mean: -20.51\n",
      "resetting env. episode reward total was -21.0. running mean: -20.51\n",
      "resetting env. episode reward total was -19.0. running mean: -20.50\n"
     ]
    },
    {
     "name": "stdout",
     "output_type": "stream",
     "text": [
      "resetting env. episode reward total was -21.0. running mean: -20.50\n",
      "resetting env. episode reward total was -20.0. running mean: -20.50\n",
      "resetting env. episode reward total was -19.0. running mean: -20.48\n",
      "resetting env. episode reward total was -21.0. running mean: -20.49\n",
      "resetting env. episode reward total was -20.0. running mean: -20.48\n",
      "resetting env. episode reward total was -21.0. running mean: -20.49\n",
      "resetting env. episode reward total was -21.0. running mean: -20.49\n",
      "resetting env. episode reward total was -20.0. running mean: -20.49\n",
      "resetting env. episode reward total was -21.0. running mean: -20.49\n",
      "resetting env. episode reward total was -21.0. running mean: -20.50\n",
      "resetting env. episode reward total was -21.0. running mean: -20.50\n",
      "resetting env. episode reward total was -20.0. running mean: -20.50\n",
      "resetting env. episode reward total was -21.0. running mean: -20.50\n",
      "resetting env. episode reward total was -20.0. running mean: -20.50\n",
      "resetting env. episode reward total was -21.0. running mean: -20.50\n",
      "resetting env. episode reward total was -18.0. running mean: -20.48\n",
      "resetting env. episode reward total was -20.0. running mean: -20.47\n",
      "resetting env. episode reward total was -21.0. running mean: -20.48\n",
      "resetting env. episode reward total was -18.0. running mean: -20.45\n",
      "resetting env. episode reward total was -21.0. running mean: -20.46\n",
      "resetting env. episode reward total was -21.0. running mean: -20.47\n",
      "resetting env. episode reward total was -21.0. running mean: -20.47\n",
      "resetting env. episode reward total was -20.0. running mean: -20.47\n",
      "resetting env. episode reward total was -21.0. running mean: -20.47\n",
      "resetting env. episode reward total was -21.0. running mean: -20.48\n",
      "resetting env. episode reward total was -21.0. running mean: -20.48\n",
      "resetting env. episode reward total was -21.0. running mean: -20.49\n",
      "resetting env. episode reward total was -21.0. running mean: -20.49\n",
      "resetting env. episode reward total was -20.0. running mean: -20.49\n",
      "resetting env. episode reward total was -21.0. running mean: -20.49\n",
      "resetting env. episode reward total was -20.0. running mean: -20.49\n",
      "resetting env. episode reward total was -20.0. running mean: -20.48\n",
      "resetting env. episode reward total was -21.0. running mean: -20.49\n",
      "resetting env. episode reward total was -21.0. running mean: -20.49\n",
      "resetting env. episode reward total was -20.0. running mean: -20.49\n",
      "resetting env. episode reward total was -21.0. running mean: -20.49\n",
      "resetting env. episode reward total was -20.0. running mean: -20.49\n",
      "resetting env. episode reward total was -21.0. running mean: -20.49\n",
      "resetting env. episode reward total was -21.0. running mean: -20.50\n",
      "resetting env. episode reward total was -21.0. running mean: -20.50\n",
      "resetting env. episode reward total was -20.0. running mean: -20.50\n",
      "resetting env. episode reward total was -20.0. running mean: -20.49\n",
      "resetting env. episode reward total was -20.0. running mean: -20.49\n",
      "resetting env. episode reward total was -19.0. running mean: -20.47\n",
      "resetting env. episode reward total was -21.0. running mean: -20.48\n",
      "resetting env. episode reward total was -21.0. running mean: -20.48\n",
      "resetting env. episode reward total was -20.0. running mean: -20.48\n",
      "resetting env. episode reward total was -21.0. running mean: -20.48\n",
      "resetting env. episode reward total was -21.0. running mean: -20.49\n",
      "resetting env. episode reward total was -21.0. running mean: -20.49\n",
      "resetting env. episode reward total was -21.0. running mean: -20.50\n",
      "resetting env. episode reward total was -21.0. running mean: -20.50\n",
      "resetting env. episode reward total was -21.0. running mean: -20.51\n",
      "resetting env. episode reward total was -21.0. running mean: -20.51\n",
      "resetting env. episode reward total was -21.0. running mean: -20.52\n",
      "resetting env. episode reward total was -21.0. running mean: -20.52\n",
      "resetting env. episode reward total was -21.0. running mean: -20.53\n",
      "resetting env. episode reward total was -20.0. running mean: -20.52\n",
      "resetting env. episode reward total was -21.0. running mean: -20.53\n",
      "resetting env. episode reward total was -21.0. running mean: -20.53\n",
      "resetting env. episode reward total was -20.0. running mean: -20.53\n",
      "resetting env. episode reward total was -21.0. running mean: -20.53\n",
      "resetting env. episode reward total was -21.0. running mean: -20.54\n",
      "resetting env. episode reward total was -21.0. running mean: -20.54\n",
      "resetting env. episode reward total was -19.0. running mean: -20.53\n",
      "resetting env. episode reward total was -21.0. running mean: -20.53\n",
      "resetting env. episode reward total was -21.0. running mean: -20.54\n",
      "resetting env. episode reward total was -19.0. running mean: -20.52\n",
      "resetting env. episode reward total was -21.0. running mean: -20.53\n",
      "resetting env. episode reward total was -21.0. running mean: -20.53\n",
      "resetting env. episode reward total was -20.0. running mean: -20.52\n",
      "resetting env. episode reward total was -19.0. running mean: -20.51\n",
      "resetting env. episode reward total was -21.0. running mean: -20.51\n",
      "resetting env. episode reward total was -20.0. running mean: -20.51\n",
      "resetting env. episode reward total was -21.0. running mean: -20.51\n",
      "resetting env. episode reward total was -21.0. running mean: -20.52\n",
      "resetting env. episode reward total was -21.0. running mean: -20.52\n",
      "resetting env. episode reward total was -21.0. running mean: -20.53\n",
      "resetting env. episode reward total was -20.0. running mean: -20.52\n",
      "resetting env. episode reward total was -20.0. running mean: -20.52\n",
      "resetting env. episode reward total was -21.0. running mean: -20.52\n",
      "resetting env. episode reward total was -20.0. running mean: -20.52\n",
      "resetting env. episode reward total was -20.0. running mean: -20.51\n",
      "resetting env. episode reward total was -20.0. running mean: -20.51\n",
      "resetting env. episode reward total was -21.0. running mean: -20.51\n",
      "resetting env. episode reward total was -21.0. running mean: -20.52\n",
      "resetting env. episode reward total was -21.0. running mean: -20.52\n",
      "resetting env. episode reward total was -21.0. running mean: -20.53\n",
      "resetting env. episode reward total was -21.0. running mean: -20.53\n",
      "resetting env. episode reward total was -21.0. running mean: -20.54\n",
      "resetting env. episode reward total was -21.0. running mean: -20.54\n",
      "resetting env. episode reward total was -21.0. running mean: -20.55\n",
      "resetting env. episode reward total was -21.0. running mean: -20.55\n",
      "resetting env. episode reward total was -16.0. running mean: -20.50\n",
      "resetting env. episode reward total was -21.0. running mean: -20.51\n",
      "resetting env. episode reward total was -21.0. running mean: -20.51\n",
      "resetting env. episode reward total was -21.0. running mean: -20.52\n",
      "resetting env. episode reward total was -21.0. running mean: -20.52\n",
      "resetting env. episode reward total was -20.0. running mean: -20.52\n",
      "resetting env. episode reward total was -21.0. running mean: -20.52\n",
      "resetting env. episode reward total was -21.0. running mean: -20.53\n",
      "resetting env. episode reward total was -19.0. running mean: -20.51\n",
      "resetting env. episode reward total was -21.0. running mean: -20.52\n",
      "resetting env. episode reward total was -20.0. running mean: -20.51\n",
      "resetting env. episode reward total was -21.0. running mean: -20.52\n"
     ]
    },
    {
     "ename": "KeyboardInterrupt",
     "evalue": "",
     "output_type": "error",
     "traceback": [
      "\u001b[0;31m---------------------------------------------------------------------------\u001b[0m",
      "\u001b[0;31mKeyboardInterrupt\u001b[0m                         Traceback (most recent call last)",
      "\u001b[0;32m<ipython-input-44-ddbc8cde1511>\u001b[0m in \u001b[0;36m<module>\u001b[0;34m()\u001b[0m\n\u001b[1;32m     89\u001b[0m     \u001b[0;31m# step the environment and get new measurements\u001b[0m\u001b[0;34m\u001b[0m\u001b[0;34m\u001b[0m\u001b[0m\n\u001b[1;32m     90\u001b[0m     \u001b[0mobservation\u001b[0m\u001b[0;34m,\u001b[0m \u001b[0mreward\u001b[0m\u001b[0;34m,\u001b[0m \u001b[0mdone\u001b[0m\u001b[0;34m,\u001b[0m \u001b[0minfo\u001b[0m \u001b[0;34m=\u001b[0m \u001b[0menv\u001b[0m\u001b[0;34m.\u001b[0m\u001b[0mstep\u001b[0m\u001b[0;34m(\u001b[0m\u001b[0maction\u001b[0m\u001b[0;34m)\u001b[0m\u001b[0;34m\u001b[0m\u001b[0m\n\u001b[0;32m---> 91\u001b[0;31m     \u001b[0mreward_sum\u001b[0m \u001b[0;34m+=\u001b[0m \u001b[0mreward\u001b[0m\u001b[0;34m\u001b[0m\u001b[0m\n\u001b[0m\u001b[1;32m     92\u001b[0m \u001b[0;34m\u001b[0m\u001b[0m\n\u001b[1;32m     93\u001b[0m     \u001b[0mdrs\u001b[0m\u001b[0;34m.\u001b[0m\u001b[0mappend\u001b[0m\u001b[0;34m(\u001b[0m\u001b[0mreward\u001b[0m\u001b[0;34m)\u001b[0m \u001b[0;31m# record reward (has to be done after we call step() to get reward for previous action)\u001b[0m\u001b[0;34m\u001b[0m\u001b[0m\n",
      "\u001b[0;31mKeyboardInterrupt\u001b[0m: "
     ]
    }
   ],
   "source": [
    "# hyperparameters\n",
    "H = 200 # number of hidden layer neurons\n",
    "batch_size = 60 # every how many episodes to do a param update?\n",
    "learning_rate = 1e-4\n",
    "gamma = 0.99 # discount factor for reward\n",
    "decay_rate = 0.99 # decay factor for RMSProp leaky sum of grad^2\n",
    "resume = False # resume from previous checkpoint?\n",
    "\n",
    "render = False \n",
    "#render = True\n",
    "\n",
    "# model initialization\n",
    "D = 80 * 80 # input dimensionality: 80x80 grid\n",
    "if resume:\n",
    "    model = pickle.load(open('save.p', 'rb'))\n",
    "else:\n",
    "    model = {}\n",
    "    model['W1'] = np.random.randn(H,D) / np.sqrt(D) # \"Xavier\" initialization\n",
    "    model['W2'] = np.random.randn(H) / np.sqrt(H)\n",
    "\n",
    "grad_buffer = { k : np.zeros_like(v) for k,v in model.items() } # update buffers that add up gradients over a batch\n",
    "rmsprop_cache = { k : np.zeros_like(v) for k,v in model.items() } # rmsprop memory\n",
    "\n",
    "def sigmoid(x):\n",
    "    return 1.0 / (1.0 + np.exp(-x)) # sigmoid \"squashing\" function to interval [0,1]\n",
    "\n",
    "def prepro(I):\n",
    "    \"\"\" prepro 210x160x3 uint8 frame into 6400 (80x80) 1D float vector \"\"\"\n",
    "    I = I[35:195] # crop\n",
    "    I = I[::2,::2,0] # downsample by factor of 2\n",
    "    I[I == 144] = 0 # erase background (background type 1)\n",
    "    I[I == 109] = 0 # erase background (background type 2)\n",
    "    I[I != 0] = 1 # everything else (paddles, ball) just set to 1\n",
    "    return I.astype(np.float).ravel()\n",
    "\n",
    "def discount_rewards(r):\n",
    "    \"\"\" take 1D float array of rewards and compute discounted reward \"\"\"\n",
    "    discounted_r = np.zeros_like(r)\n",
    "    running_add = 0\n",
    "    for t in reversed(range(0, r.size)):\n",
    "        if r[t] != 0: running_add = 0 # reset the sum, since this was a game boundary (pong specific!)\n",
    "        running_add = running_add * gamma + r[t]\n",
    "        discounted_r[t] = running_add\n",
    "    return discounted_r\n",
    "\n",
    "def policy_forward(x):\n",
    "    h = np.dot(model['W1'], x)\n",
    "    h[h<0] = 0 # ReLU nonlinearity\n",
    "    logp = np.dot(model['W2'], h)\n",
    "    p = sigmoid(logp)\n",
    "    return p, h # return probability of taking action 2, and hidden state\n",
    "\n",
    "def policy_backward(eph, epdlogp):\n",
    "    \"\"\" backward pass. (eph is array of intermediate hidden states) \"\"\"\n",
    "    dW2 = np.dot(eph.T, epdlogp).ravel()\n",
    "    dh = np.outer(epdlogp, model['W2'])\n",
    "    dh[eph <= 0] = 0 # backpro prelu\n",
    "    dW1 = np.dot(dh.T, epx)\n",
    "    return {'W1':dW1, 'W2':dW2}\n",
    "\n",
    "env = gym.make(\"Pong-v0\")\n",
    "observation = env.reset()\n",
    "prev_x = None # used in computing the difference frame\n",
    "xs,hs,dlogps,drs = [],[],[],[]\n",
    "running_reward = None\n",
    "reward_sum = 0\n",
    "episode_number = 0\n",
    "#while True:\n",
    "start = time.time()\n",
    "while(episode_number < 1500):\n",
    "    if render: env.render()\n",
    "\n",
    "    # preprocess the observation, set input to network to be difference image\n",
    "    cur_x = prepro(observation)\n",
    "    x = cur_x - prev_x if prev_x is not None else np.zeros(D)\n",
    "    prev_x = cur_x\n",
    "\n",
    "    # forward the policy network and sample an action from the returned probability\n",
    "    #print(x.shape)\n",
    "    aprob, h = policy_forward(x)\n",
    "    action = 2 if np.random.uniform() < aprob else 3 # roll the dice!\n",
    "\n",
    "    # record various intermediates (needed later for backprop)\n",
    "    xs.append(x) # observation\n",
    "    hs.append(h) # hidden state\n",
    "    y = 1 if action == 2 else 0 # a \"fake label\"\n",
    "    dlogps.append(y - aprob) # grad that encourages the action that was taken to be taken (see http://cs231n.github.io/neural-networks-2/#losses if confused)\n",
    "\n",
    "    # step the environment and get new measurements\n",
    "    observation, reward, done, info = env.step(action)\n",
    "    reward_sum += reward\n",
    "\n",
    "    drs.append(reward) # record reward (has to be done after we call step() to get reward for previous action)\n",
    "\n",
    "    if done: # an episode finished\n",
    "        episode_number += 1\n",
    "\n",
    "        # stack together all inputs, hidden states, action gradients, and rewards for this episode\n",
    "        epx = np.vstack(xs)\n",
    "        eph = np.vstack(hs)\n",
    "        epdlogp = np.vstack(dlogps)\n",
    "        epr = np.vstack(drs)\n",
    "        xs,hs,dlogps,drs = [],[],[],[] # reset array memory\n",
    "\n",
    "        # compute the discounted reward backwards through time\n",
    "        discounted_epr = discount_rewards(epr)\n",
    "        # standardize the rewards to be unit normal (helps control the gradient estimator variance)\n",
    "        discounted_epr -= np.mean(discounted_epr)\n",
    "        discounted_epr /= np.std(discounted_epr)\n",
    "\n",
    "        epdlogp *= discounted_epr # modulate the gradient with advantage (PG magic happens right here.)\n",
    "        grad = policy_backward(eph, epdlogp)\n",
    "        for k in model: grad_buffer[k] += grad[k] # accumulate grad over batch\n",
    "\n",
    "        # perform rmsprop parameter update every batch_size episodes\n",
    "        if episode_number % batch_size == 0:\n",
    "            for k,v in model.items():\n",
    "                g = grad_buffer[k] # gradient\n",
    "                rmsprop_cache[k] = decay_rate * rmsprop_cache[k] + (1 - decay_rate) * g**2\n",
    "                model[k] += learning_rate * g / (np.sqrt(rmsprop_cache[k]) + 1e-5)\n",
    "                grad_buffer[k] = np.zeros_like(v) # reset batch gradient buffer\n",
    "\n",
    "        # boring book-keeping\n",
    "        running_reward = reward_sum if running_reward is None else running_reward * 0.99 + reward_sum * 0.01\n",
    "        print('resetting env. episode reward total was ' + str(reward_sum) + '. running mean: {0:.2f}'.format(running_reward))\n",
    "\n",
    "        if episode_number % 100 == 0: pickle.dump(model, open('save_prepoc.p', 'wb'))\n",
    "        reward_sum = 0\n",
    "        observation = env.reset() # reset env\n",
    "        prev_x = None\n",
    "\n",
    "    #if reward != 0: # Pong has either +1 or -1 reward exactly when game ends.\n",
    "        #print ('ep ' + str(episode_number) + ': game finished, reward: ' + str(reward) + ('' if reward == -1 else ' !!!!!!!!'))\n",
    "        #print(episode_number, reward)\n",
    "\n",
    "end = time.time()\n",
    "print(end - start)"
   ]
  },
  {
   "cell_type": "markdown",
   "metadata": {},
   "source": [
    "## Using Latent Variables as input"
   ]
  },
  {
   "cell_type": "code",
   "execution_count": 71,
   "metadata": {},
   "outputs": [
    {
     "name": "stdout",
     "output_type": "stream",
     "text": [
      "resetting env. episode reward total was -21.0. running mean: -21.00\n",
      "resetting env. episode reward total was -21.0. running mean: -21.00\n",
      "resetting env. episode reward total was -21.0. running mean: -21.00\n",
      "resetting env. episode reward total was -21.0. running mean: -21.00\n",
      "resetting env. episode reward total was -20.0. running mean: -20.99\n",
      "resetting env. episode reward total was -21.0. running mean: -20.99\n",
      "resetting env. episode reward total was -21.0. running mean: -20.99\n",
      "resetting env. episode reward total was -21.0. running mean: -20.99\n",
      "resetting env. episode reward total was -21.0. running mean: -20.99\n",
      "resetting env. episode reward total was -21.0. running mean: -20.99\n",
      "resetting env. episode reward total was -20.0. running mean: -20.98\n",
      "resetting env. episode reward total was -21.0. running mean: -20.98\n",
      "resetting env. episode reward total was -21.0. running mean: -20.98\n",
      "resetting env. episode reward total was -20.0. running mean: -20.97\n",
      "resetting env. episode reward total was -21.0. running mean: -20.97\n",
      "resetting env. episode reward total was -21.0. running mean: -20.97\n",
      "resetting env. episode reward total was -20.0. running mean: -20.96\n",
      "resetting env. episode reward total was -20.0. running mean: -20.95\n",
      "resetting env. episode reward total was -19.0. running mean: -20.93\n",
      "resetting env. episode reward total was -21.0. running mean: -20.93\n",
      "resetting env. episode reward total was -20.0. running mean: -20.92\n",
      "resetting env. episode reward total was -21.0. running mean: -20.92\n",
      "resetting env. episode reward total was -20.0. running mean: -20.92\n",
      "resetting env. episode reward total was -20.0. running mean: -20.91\n"
     ]
    },
    {
     "ename": "KeyboardInterrupt",
     "evalue": "",
     "output_type": "error",
     "traceback": [
      "\u001b[0;31m---------------------------------------------------------------------------\u001b[0m",
      "\u001b[0;31mKeyboardInterrupt\u001b[0m                         Traceback (most recent call last)",
      "\u001b[0;32m<ipython-input-71-fbee4ed9b93d>\u001b[0m in \u001b[0;36m<module>\u001b[0;34m()\u001b[0m\n\u001b[1;32m     56\u001b[0m \u001b[0;34m\u001b[0m\u001b[0m\n\u001b[1;32m     57\u001b[0m     \u001b[0;31m# step the environment and get new measurements\u001b[0m\u001b[0;34m\u001b[0m\u001b[0;34m\u001b[0m\u001b[0m\n\u001b[0;32m---> 58\u001b[0;31m     \u001b[0mobservation\u001b[0m\u001b[0;34m,\u001b[0m \u001b[0mreward\u001b[0m\u001b[0;34m,\u001b[0m \u001b[0mdone\u001b[0m\u001b[0;34m,\u001b[0m \u001b[0minfo\u001b[0m \u001b[0;34m=\u001b[0m \u001b[0menv\u001b[0m\u001b[0;34m.\u001b[0m\u001b[0mstep\u001b[0m\u001b[0;34m(\u001b[0m\u001b[0maction\u001b[0m\u001b[0;34m)\u001b[0m\u001b[0;34m\u001b[0m\u001b[0m\n\u001b[0m\u001b[1;32m     59\u001b[0m     \u001b[0mreward_sum\u001b[0m \u001b[0;34m+=\u001b[0m \u001b[0mreward\u001b[0m\u001b[0;34m\u001b[0m\u001b[0m\n\u001b[1;32m     60\u001b[0m \u001b[0;34m\u001b[0m\u001b[0m\n",
      "\u001b[0;32m/home/arno/anaconda3/lib/python3.5/site-packages/gym/wrappers/time_limit.py\u001b[0m in \u001b[0;36mstep\u001b[0;34m(self, action)\u001b[0m\n\u001b[1;32m     29\u001b[0m     \u001b[0;32mdef\u001b[0m \u001b[0mstep\u001b[0m\u001b[0;34m(\u001b[0m\u001b[0mself\u001b[0m\u001b[0;34m,\u001b[0m \u001b[0maction\u001b[0m\u001b[0;34m)\u001b[0m\u001b[0;34m:\u001b[0m\u001b[0;34m\u001b[0m\u001b[0m\n\u001b[1;32m     30\u001b[0m         \u001b[0;32massert\u001b[0m \u001b[0mself\u001b[0m\u001b[0;34m.\u001b[0m\u001b[0m_episode_started_at\u001b[0m \u001b[0;32mis\u001b[0m \u001b[0;32mnot\u001b[0m \u001b[0;32mNone\u001b[0m\u001b[0;34m,\u001b[0m \u001b[0;34m\"Cannot call env.step() before calling reset()\"\u001b[0m\u001b[0;34m\u001b[0m\u001b[0m\n\u001b[0;32m---> 31\u001b[0;31m         \u001b[0mobservation\u001b[0m\u001b[0;34m,\u001b[0m \u001b[0mreward\u001b[0m\u001b[0;34m,\u001b[0m \u001b[0mdone\u001b[0m\u001b[0;34m,\u001b[0m \u001b[0minfo\u001b[0m \u001b[0;34m=\u001b[0m \u001b[0mself\u001b[0m\u001b[0;34m.\u001b[0m\u001b[0menv\u001b[0m\u001b[0;34m.\u001b[0m\u001b[0mstep\u001b[0m\u001b[0;34m(\u001b[0m\u001b[0maction\u001b[0m\u001b[0;34m)\u001b[0m\u001b[0;34m\u001b[0m\u001b[0m\n\u001b[0m\u001b[1;32m     32\u001b[0m         \u001b[0mself\u001b[0m\u001b[0;34m.\u001b[0m\u001b[0m_elapsed_steps\u001b[0m \u001b[0;34m+=\u001b[0m \u001b[0;36m1\u001b[0m\u001b[0;34m\u001b[0m\u001b[0m\n\u001b[1;32m     33\u001b[0m \u001b[0;34m\u001b[0m\u001b[0m\n",
      "\u001b[0;32m/home/arno/anaconda3/lib/python3.5/site-packages/gym/envs/atari/atari_env.py\u001b[0m in \u001b[0;36mstep\u001b[0;34m(self, a)\u001b[0m\n\u001b[1;32m     93\u001b[0m             \u001b[0mnum_steps\u001b[0m \u001b[0;34m=\u001b[0m \u001b[0mself\u001b[0m\u001b[0;34m.\u001b[0m\u001b[0mnp_random\u001b[0m\u001b[0;34m.\u001b[0m\u001b[0mrandint\u001b[0m\u001b[0;34m(\u001b[0m\u001b[0mself\u001b[0m\u001b[0;34m.\u001b[0m\u001b[0mframeskip\u001b[0m\u001b[0;34m[\u001b[0m\u001b[0;36m0\u001b[0m\u001b[0;34m]\u001b[0m\u001b[0;34m,\u001b[0m \u001b[0mself\u001b[0m\u001b[0;34m.\u001b[0m\u001b[0mframeskip\u001b[0m\u001b[0;34m[\u001b[0m\u001b[0;36m1\u001b[0m\u001b[0;34m]\u001b[0m\u001b[0;34m)\u001b[0m\u001b[0;34m\u001b[0m\u001b[0m\n\u001b[1;32m     94\u001b[0m         \u001b[0;32mfor\u001b[0m \u001b[0m_\u001b[0m \u001b[0;32min\u001b[0m \u001b[0mrange\u001b[0m\u001b[0;34m(\u001b[0m\u001b[0mnum_steps\u001b[0m\u001b[0;34m)\u001b[0m\u001b[0;34m:\u001b[0m\u001b[0;34m\u001b[0m\u001b[0m\n\u001b[0;32m---> 95\u001b[0;31m             \u001b[0mreward\u001b[0m \u001b[0;34m+=\u001b[0m \u001b[0mself\u001b[0m\u001b[0;34m.\u001b[0m\u001b[0male\u001b[0m\u001b[0;34m.\u001b[0m\u001b[0mact\u001b[0m\u001b[0;34m(\u001b[0m\u001b[0maction\u001b[0m\u001b[0;34m)\u001b[0m\u001b[0;34m\u001b[0m\u001b[0m\n\u001b[0m\u001b[1;32m     96\u001b[0m         \u001b[0mob\u001b[0m \u001b[0;34m=\u001b[0m \u001b[0mself\u001b[0m\u001b[0;34m.\u001b[0m\u001b[0m_get_obs\u001b[0m\u001b[0;34m(\u001b[0m\u001b[0;34m)\u001b[0m\u001b[0;34m\u001b[0m\u001b[0m\n\u001b[1;32m     97\u001b[0m \u001b[0;34m\u001b[0m\u001b[0m\n",
      "\u001b[0;32m/home/arno/anaconda3/lib/python3.5/site-packages/atari_py/ale_python_interface.py\u001b[0m in \u001b[0;36mact\u001b[0;34m(self, action)\u001b[0m\n\u001b[1;32m    134\u001b[0m \u001b[0;34m\u001b[0m\u001b[0m\n\u001b[1;32m    135\u001b[0m     \u001b[0;32mdef\u001b[0m \u001b[0mact\u001b[0m\u001b[0;34m(\u001b[0m\u001b[0mself\u001b[0m\u001b[0;34m,\u001b[0m \u001b[0maction\u001b[0m\u001b[0;34m)\u001b[0m\u001b[0;34m:\u001b[0m\u001b[0;34m\u001b[0m\u001b[0m\n\u001b[0;32m--> 136\u001b[0;31m         \u001b[0;32mreturn\u001b[0m \u001b[0male_lib\u001b[0m\u001b[0;34m.\u001b[0m\u001b[0mact\u001b[0m\u001b[0;34m(\u001b[0m\u001b[0mself\u001b[0m\u001b[0;34m.\u001b[0m\u001b[0mobj\u001b[0m\u001b[0;34m,\u001b[0m \u001b[0mint\u001b[0m\u001b[0;34m(\u001b[0m\u001b[0maction\u001b[0m\u001b[0;34m)\u001b[0m\u001b[0;34m)\u001b[0m\u001b[0;34m\u001b[0m\u001b[0m\n\u001b[0m\u001b[1;32m    137\u001b[0m \u001b[0;34m\u001b[0m\u001b[0m\n\u001b[1;32m    138\u001b[0m     \u001b[0;32mdef\u001b[0m \u001b[0mgame_over\u001b[0m\u001b[0;34m(\u001b[0m\u001b[0mself\u001b[0m\u001b[0;34m)\u001b[0m\u001b[0;34m:\u001b[0m\u001b[0;34m\u001b[0m\u001b[0m\n",
      "\u001b[0;31mKeyboardInterrupt\u001b[0m: "
     ]
    }
   ],
   "source": [
    "# hyperparameters\n",
    "H = 200 # number of hidden layer neurons\n",
    "batch_size = 60 # every how many episodes to do a param update?\n",
    "learning_rate = 1e-4\n",
    "gamma = 0.99 # discount factor for reward\n",
    "decay_rate = 0.99 # decay factor for RMSProp leaky sum of grad^2\n",
    "resume = False # resume from previous checkpoint?\n",
    "\n",
    "render = False \n",
    "#render = True\n",
    "\n",
    "# model initialization\n",
    "D = z_dim # input dimensionality: 80x80 grid\n",
    "if resume:\n",
    "    model = pickle.load(open('save.p', 'rb'))\n",
    "else:\n",
    "    model = {}\n",
    "    model['W1'] = np.random.randn(H,D) / np.sqrt(D) # \"Xavier\" initialization\n",
    "    model['W2'] = np.random.randn(H) / np.sqrt(H)\n",
    "\n",
    "grad_buffer = { k : np.zeros_like(v) for k,v in model.items() } # update buffers that add up gradients over a batch\n",
    "rmsprop_cache = { k : np.zeros_like(v) for k,v in model.items() } # rmsprop memory\n",
    "\n",
    "env = gym.make(\"Pong-v0\")\n",
    "observation = env.reset()\n",
    "prev_x = None # used in computing the difference frame\n",
    "xs,hs,dlogps,drs = [],[],[],[]\n",
    "running_reward = None\n",
    "reward_sum = 0\n",
    "episode_number = 0\n",
    "#while True:\n",
    "start = time.time()\n",
    "while(episode_number < 1500):\n",
    "    if render: env.render()\n",
    "\n",
    "    # preprocess the observation, set input to network to be difference image\n",
    "    x = torch.from_numpy(observation).to(device).float()\n",
    "    mu, logvar = vae_model.encode(x.view(-1, im_dm))\n",
    "    z = vae_model.reparameterize(mu, logvar)\n",
    "    cur_x = z\n",
    "    x = cur_x - prev_x if prev_x is not None else np.zeros(D)\n",
    "    if prev_x is not None:\n",
    "        x = x.cpu().detach().numpy().reshape(-1)\n",
    "    prev_x = cur_x\n",
    "\n",
    "    # forward the policy network and sample an action from the returned probability\n",
    "    #print(x.shape)\n",
    "    aprob, h = policy_forward(x)\n",
    "    action = 2 if np.random.uniform() < aprob else 3 # roll the dice!\n",
    "\n",
    "    # record various intermediates (needed later for backprop)\n",
    "    xs.append(x) # observation\n",
    "    hs.append(h) # hidden state\n",
    "    y = 1 if action == 2 else 0 # a \"fake label\"\n",
    "    dlogps.append(y - aprob) # grad that encourages the action that was taken to be taken (see http://cs231n.github.io/neural-networks-2/#losses if confused)\n",
    "\n",
    "    # step the environment and get new measurements\n",
    "    observation, reward, done, info = env.step(action)\n",
    "    reward_sum += reward\n",
    "\n",
    "    drs.append(reward) # record reward (has to be done after we call step() to get reward for previous action)\n",
    "\n",
    "    if done: # an episode finished\n",
    "        episode_number += 1\n",
    "\n",
    "        # stack together all inputs, hidden states, action gradients, and rewards for this episode\n",
    "        epx = np.vstack(xs)\n",
    "        eph = np.vstack(hs)\n",
    "        epdlogp = np.vstack(dlogps)\n",
    "        epr = np.vstack(drs)\n",
    "        xs,hs,dlogps,drs = [],[],[],[] # reset array memory\n",
    "\n",
    "        # compute the discounted reward backwards through time\n",
    "        discounted_epr = discount_rewards(epr)\n",
    "        # standardize the rewards to be unit normal (helps control the gradient estimator variance)\n",
    "        discounted_epr -= np.mean(discounted_epr)\n",
    "        discounted_epr /= np.std(discounted_epr)\n",
    "\n",
    "        epdlogp *= discounted_epr # modulate the gradient with advantage (PG magic happens right here.)\n",
    "        grad = policy_backward(eph, epdlogp)\n",
    "        for k in model: grad_buffer[k] += grad[k] # accumulate grad over batch\n",
    "\n",
    "        # perform rmsprop parameter update every batch_size episodes\n",
    "        if episode_number % batch_size == 0:\n",
    "            for k,v in model.items():\n",
    "                g = grad_buffer[k] # gradient\n",
    "                rmsprop_cache[k] = decay_rate * rmsprop_cache[k] + (1 - decay_rate) * g**2\n",
    "                model[k] += learning_rate * g / (np.sqrt(rmsprop_cache[k]) + 1e-5)\n",
    "                grad_buffer[k] = np.zeros_like(v) # reset batch gradient buffer\n",
    "\n",
    "        # boring book-keeping\n",
    "        running_reward = reward_sum if running_reward is None else running_reward * 0.99 + reward_sum * 0.01\n",
    "        print('resetting env. episode reward total was ' + str(reward_sum) + '. running mean: {0:.2f}'.format(running_reward))\n",
    "\n",
    "        if episode_number % 100 == 0: pickle.dump(model, open('save_prepoc.p', 'wb'))\n",
    "        reward_sum = 0\n",
    "        observation = env.reset() # reset env\n",
    "        prev_x = None\n",
    "\n",
    "    #if reward != 0: # Pong has either +1 or -1 reward exactly when game ends.\n",
    "        #print ('ep ' + str(episode_number) + ': game finished, reward: ' + str(reward) + ('' if reward == -1 else ' !!!!!!!!'))\n",
    "        #print(episode_number, reward)\n",
    "\n",
    "end = time.time()\n",
    "print(end - start)"
   ]
  },
  {
   "cell_type": "code",
   "execution_count": null,
   "metadata": {
    "collapsed": true
   },
   "outputs": [],
   "source": []
  },
  {
   "cell_type": "code",
   "execution_count": null,
   "metadata": {
    "collapsed": true
   },
   "outputs": [],
   "source": []
  },
  {
   "cell_type": "code",
   "execution_count": null,
   "metadata": {
    "collapsed": true
   },
   "outputs": [],
   "source": []
  },
  {
   "cell_type": "code",
   "execution_count": null,
   "metadata": {
    "collapsed": true
   },
   "outputs": [],
   "source": []
  },
  {
   "cell_type": "code",
   "execution_count": null,
   "metadata": {
    "collapsed": true
   },
   "outputs": [],
   "source": []
  },
  {
   "cell_type": "code",
   "execution_count": null,
   "metadata": {
    "collapsed": true
   },
   "outputs": [],
   "source": []
  },
  {
   "cell_type": "code",
   "execution_count": null,
   "metadata": {
    "collapsed": true
   },
   "outputs": [],
   "source": []
  },
  {
   "cell_type": "code",
   "execution_count": null,
   "metadata": {
    "collapsed": true
   },
   "outputs": [],
   "source": []
  },
  {
   "cell_type": "code",
   "execution_count": null,
   "metadata": {
    "collapsed": true
   },
   "outputs": [],
   "source": []
  },
  {
   "cell_type": "code",
   "execution_count": null,
   "metadata": {
    "collapsed": true
   },
   "outputs": [],
   "source": []
  },
  {
   "cell_type": "code",
   "execution_count": null,
   "metadata": {
    "collapsed": true
   },
   "outputs": [],
   "source": []
  },
  {
   "cell_type": "code",
   "execution_count": null,
   "metadata": {
    "collapsed": true
   },
   "outputs": [],
   "source": []
  },
  {
   "cell_type": "code",
   "execution_count": null,
   "metadata": {
    "collapsed": true
   },
   "outputs": [],
   "source": []
  },
  {
   "cell_type": "code",
   "execution_count": null,
   "metadata": {
    "collapsed": true
   },
   "outputs": [],
   "source": []
  },
  {
   "cell_type": "code",
   "execution_count": null,
   "metadata": {
    "collapsed": true
   },
   "outputs": [],
   "source": []
  },
  {
   "cell_type": "code",
   "execution_count": null,
   "metadata": {
    "collapsed": true
   },
   "outputs": [],
   "source": []
  },
  {
   "cell_type": "code",
   "execution_count": null,
   "metadata": {
    "collapsed": true
   },
   "outputs": [],
   "source": [
    "plt.imshow(mixed_frames[-200].numpy().reshape(250,160,3))\n",
    "plt.show()"
   ]
  },
  {
   "cell_type": "code",
   "execution_count": 21,
   "metadata": {
    "collapsed": true
   },
   "outputs": [],
   "source": [
    "n = min(data.size(0), 8)"
   ]
  },
  {
   "cell_type": "code",
   "execution_count": 25,
   "metadata": {},
   "outputs": [
    {
     "data": {
      "text/plain": [
       "(8, 3, 250, 160)"
      ]
     },
     "execution_count": 25,
     "metadata": {},
     "output_type": "execute_result"
    }
   ],
   "source": [
    "data[:n].numpy().shape"
   ]
  },
  {
   "cell_type": "code",
   "execution_count": 26,
   "metadata": {},
   "outputs": [
    {
     "data": {
      "image/png": "[encoded data removed]",
      "text/plain": [
       "<matplotlib.figure.Figure at 0x7ff9ab07e160>"
      ]
     },
     "metadata": {},
     "output_type": "display_data"
    }
   ],
   "source": [
    "for i, data in enumerate(test_loader):\n",
    "    data = data.float()\n",
    "    if i ==0:\n",
    "        plt.imshow(data[i].numpy().reshape(250,160,3))\n",
    "        plt.show()"
   ]
  },
  {
   "cell_type": "code",
   "execution_count": 58,
   "metadata": {},
   "outputs": [
    {
     "data": {
      "image/png": "[encoded data removed]",
      "text/plain": [
       "<matplotlib.figure.Figure at 0x7ff9a807e6a0>"
      ]
     },
     "metadata": {},
     "output_type": "display_data"
    }
   ],
   "source": [
    "sample = torch.randn(1, z_dim).cuda()\n",
    "res = model.decode(sample).cpu()\n",
    "plt.imshow(res.detach().numpy().reshape(210,160,3))\n",
    "plt.show()"
   ]
  },
  {
   "cell_type": "code",
   "execution_count": null,
   "metadata": {
    "collapsed": true
   },
   "outputs": [],
   "source": [
    "\n",
    "for i, data in enumerate(train_loader):\n",
    "    data = data.float()\n",
    "    #print(i)\n",
    "    if i > 200 and i < 205:\n",
    "        plt.imshow(data[2].numpy().reshape(250,160,3))\n",
    "        plt.show()"
   ]
  },
  {
   "cell_type": "code",
   "execution_count": null,
   "metadata": {
    "collapsed": true
   },
   "outputs": [],
   "source": [
    "train_loader"
   ]
  },
  {
   "cell_type": "code",
   "execution_count": null,
   "metadata": {
    "collapsed": true
   },
   "outputs": [],
   "source": [
    "len(train_loader) * batch_size"
   ]
  },
  {
   "cell_type": "code",
   "execution_count": null,
   "metadata": {
    "collapsed": true
   },
   "outputs": [],
   "source": []
  }
 ],
 "metadata": {
  "kernelspec": {
   "display_name": "Python 3",
   "language": "python",
   "name": "python3"
  },
  "language_info": {
   "codemirror_mode": {
    "name": "ipython",
    "version": 3
   },
   "file_extension": ".py",
   "mimetype": "text/x-python",
   "name": "python",
   "nbconvert_exporter": "python",
   "pygments_lexer": "ipython3",
   "version": "3.5.4"
  }
 },
 "nbformat": 4,
 "nbformat_minor": 2
}
